{
 "cells": [
  {
   "cell_type": "markdown",
   "id": "0ae2592a",
   "metadata": {},
   "source": [
    "## 4.1.4 조건문으로 간단한 프로그램 만들기"
   ]
  },
  {
   "cell_type": "code",
   "execution_count": 2,
   "id": "81e7e0f9",
   "metadata": {},
   "outputs": [
    {
     "name": "stdout",
     "output_type": "stream",
     "text": [
      "주문액 : 14500\n",
      "배달비 3천원 부과\n",
      "합계 17500원이 결제됩니다.\n"
     ]
    }
   ],
   "source": [
    "price = int(input('주문액 : '))\n",
    "\n",
    "if price < 18000:\n",
    "    print(\"배달비 3천원 부과\")\n",
    "    price += 3000\n",
    "\n",
    "print(\"합계 {}원이 결제됩니다.\".format(price))    "
   ]
  },
  {
   "cell_type": "code",
   "execution_count": null,
   "id": "e3e65607",
   "metadata": {},
   "outputs": [],
   "source": []
  },
  {
   "cell_type": "markdown",
   "id": "e7fc5a6a",
   "metadata": {},
   "source": [
    "### 4.2 else"
   ]
  },
  {
   "cell_type": "code",
   "execution_count": 7,
   "id": "b1b249b1",
   "metadata": {},
   "outputs": [
    {
     "name": "stdout",
     "output_type": "stream",
     "text": [
      "당신은 국가유공자입니까? (예, 아니오로 답변)아니오\n",
      "3만원이 부과됩니다.\n",
      "입장료를 지불하세요. 입장료는 3만원입니다. (숫자만 입력)14000\n",
      "16000원을 더 내셨습니다. 잔돈을 받아가세요.\n"
     ]
    }
   ],
   "source": [
    "pat = input(\"당신은 국가유공자입니까? (예, 아니오로 답변)\")\n",
    "\n",
    "if pat == \"예\" :\n",
    "    print(\"당신은 과거에 이미 값을 지불하였습니다. 환영합니다.\")\n",
    "    fee = 0\n",
    "else : \n",
    "    print(\"3만원이 부과됩니다.\")\n",
    "    fee = 30000\n",
    "    \n",
    "    fee_sub = int(input(\"입장료를 지불하세요. 입장료는 3만원입니다. (숫자만 입력)\"))\n",
    "    \n",
    "    if fee >= 30000 :\n",
    "        print(\"{}원을 더 내셨습니다. 잔돈을 받아가세요.\".format(fee - fee_sub))\n",
    "    else :\n",
    "        print(\"{}원이 부족합니다. 부족 금액을 더 넣어주세요.\".format(fee_sub - fee))    "
   ]
  },
  {
   "cell_type": "code",
   "execution_count": null,
   "id": "0c1712df",
   "metadata": {},
   "outputs": [],
   "source": []
  },
  {
   "cell_type": "markdown",
   "id": "88b4b047",
   "metadata": {},
   "source": [
    "#### elif를 사용해 추가로 조건을 부여할 수도 있음."
   ]
  },
  {
   "cell_type": "code",
   "execution_count": null,
   "id": "886d5a3d",
   "metadata": {},
   "outputs": [],
   "source": []
  },
  {
   "cell_type": "markdown",
   "id": "b1a76190",
   "metadata": {},
   "source": [
    "## Self Check"
   ]
  },
  {
   "cell_type": "code",
   "execution_count": 10,
   "id": "e5cfcf4c",
   "metadata": {},
   "outputs": [
    {
     "name": "stdout",
     "output_type": "stream",
     "text": [
      "기침을 하나요? (Y, N으로 답변)Y\n",
      "체온을 입력하세요. (숫자만 입력)38.8\n",
      "코로나가 의심됩니다. 전문의를 찾아가세요.\n"
     ]
    }
   ],
   "source": [
    "# 1. 코로나 의심 여부 확인 \n",
    "\n",
    "covid = input(\"기침을 하나요? (Y, N으로 답변)\")\n",
    "check = float(input(\"체온을 입력하세요. (숫자만 입력)\"))\n",
    "\n",
    "if covid == \"Y\" and check >= 38.5 :\n",
    "    print(\"코로나가 의심됩니다. 전문의를 찾아가세요.\")\n",
    "else :\n",
    "    print(\"안심하세요.\")"
   ]
  },
  {
   "cell_type": "code",
   "execution_count": 11,
   "id": "ab624e8f",
   "metadata": {},
   "outputs": [
    {
     "name": "stdout",
     "output_type": "stream",
     "text": [
      "점심 식사는 뭐로 하시겠습니까?라면\n",
      "신라면\n",
      "진라면 순한맛\n"
     ]
    }
   ],
   "source": [
    "# 2. 점심메뉴\n",
    "\n",
    "lunch = input(\"점심 식사는 뭐로 하시겠습니까?\")\n",
    "\n",
    "if lunch == \"라면\":\n",
    "    print(\"신라면\"); print(\"진라면 순한맛\")\n",
    "elif lunch == \"볶음밥\":\n",
    "    print(\"김치볶음밥\"); print(\"계란볶음밥\")\n",
    "else :\n",
    "    print(\"다른 메뉴는 품절입니다.\")"
   ]
  },
  {
   "cell_type": "code",
   "execution_count": null,
   "id": "7a0dc2f9",
   "metadata": {},
   "outputs": [],
   "source": []
  }
 ],
 "metadata": {
  "kernelspec": {
   "display_name": "Python 3 (ipykernel)",
   "language": "python",
   "name": "python3"
  },
  "language_info": {
   "codemirror_mode": {
    "name": "ipython",
    "version": 3
   },
   "file_extension": ".py",
   "mimetype": "text/x-python",
   "name": "python",
   "nbconvert_exporter": "python",
   "pygments_lexer": "ipython3",
   "version": "3.9.7"
  }
 },
 "nbformat": 4,
 "nbformat_minor": 5
}
