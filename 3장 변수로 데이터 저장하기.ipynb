{
 "cells": [
  {
   "cell_type": "markdown",
   "id": "c799acb1",
   "metadata": {},
   "source": [
    "## 변수 : 데이터를 저장하는 공간"
   ]
  },
  {
   "cell_type": "code",
   "execution_count": 5,
   "id": "e02b6180",
   "metadata": {},
   "outputs": [
    {
     "name": "stdout",
     "output_type": "stream",
     "text": [
      "이재명 (나이 : 57 세) 후보는 47.83% 의 득표율로 낙선하였습니다.\n"
     ]
    }
   ],
   "source": [
    "name = \"이재명\"\n",
    "age = 57\n",
    "vote = \"47.83%\"\n",
    "\n",
    "print(name, \"(나이 :\", age, \"세)\" , \"후보는\", vote, \"의 득표율로 낙선하였습니다.\")"
   ]
  },
  {
   "cell_type": "markdown",
   "id": "da0f803b",
   "metadata": {},
   "source": [
    "### format 활용"
   ]
  },
  {
   "cell_type": "code",
   "execution_count": 6,
   "id": "547c0d31",
   "metadata": {},
   "outputs": [
    {
     "name": "stdout",
     "output_type": "stream",
     "text": [
      "이재명 (나이 : 57 ) 은(는) 47.83% 의 득표율로 낙선하였습니다.\n",
      "이재명 (나이 : 57세) 후보는 47.83%의 득표율로 낙선하였습니다\n"
     ]
    }
   ],
   "source": [
    "name = \"이재명\"\n",
    "age = 57\n",
    "vote = \"47.83%\"\n",
    "\n",
    "print(name, \"(나이 :\", age, \")\" , \"은(는)\", vote, \"의 득표율로 낙선하였습니다.\")\n",
    "\n",
    "# format 함수를 사용해 보다 깔끔하게 작성 가능\n",
    "\n",
    "print(\"{} (나이 : {}세) 후보는 {}의 득표율로 낙선하였습니다\" .format(name, age, vote))"
   ]
  },
  {
   "cell_type": "code",
   "execution_count": null,
   "id": "8fae3586",
   "metadata": {},
   "outputs": [],
   "source": []
  },
  {
   "cell_type": "markdown",
   "id": "28de0a2f",
   "metadata": {},
   "source": [
    "### 변수를 사용한 계산"
   ]
  },
  {
   "cell_type": "code",
   "execution_count": 10,
   "id": "827aa1f5",
   "metadata": {},
   "outputs": [
    {
     "name": "stdout",
     "output_type": "stream",
     "text": [
      "원의 넓이는 200.96\n",
      "구의 겉넓이는 803.84\n"
     ]
    }
   ],
   "source": [
    "# 반지름이 8인 원이 있다고 가정\n",
    "\n",
    "r = 8\n",
    "p = 3.14\n",
    "\n",
    "# 1. 원의 넓이 -> r^2 * pie\n",
    "\n",
    "a = r ** 2 * p\n",
    "\n",
    "# 2. 구의 겉넓이 -> r^2 * 4pie \n",
    "\n",
    "b = r ** 2 * 4 * p\n",
    "\n",
    "print(\"원의 넓이는\", a)\n",
    "print(\"구의 겉넓이는\", b)"
   ]
  },
  {
   "cell_type": "code",
   "execution_count": null,
   "id": "b9446e58",
   "metadata": {},
   "outputs": [],
   "source": []
  },
  {
   "cell_type": "markdown",
   "id": "67339614",
   "metadata": {},
   "source": [
    "### 변수를 입력받는다면?"
   ]
  },
  {
   "cell_type": "code",
   "execution_count": 13,
   "id": "921a343e",
   "metadata": {},
   "outputs": [
    {
     "name": "stdout",
     "output_type": "stream",
     "text": [
      "반지름은 얼마인가요?5\n",
      "원의 넓이는 78.5\n",
      "구의 겉넓이는 314.0\n"
     ]
    }
   ],
   "source": [
    "# 반지름이 달라지는 경우!\n",
    "\n",
    "p = 3.14\n",
    "\n",
    "# int함수는 정수로 바꿔주는 역할을 합니다.\n",
    "\n",
    "r = int(input('반지름은 얼마인가요?'))\n",
    "\n",
    "c = r ** 2 * p\n",
    "d = r ** 2 * 4 * p\n",
    "\n",
    "print(\"원의 넓이는\", c)\n",
    "print(\"구의 겉넓이는\", d)"
   ]
  },
  {
   "cell_type": "code",
   "execution_count": null,
   "id": "3edc6afa",
   "metadata": {},
   "outputs": [],
   "source": []
  },
  {
   "cell_type": "markdown",
   "id": "0480ae62",
   "metadata": {},
   "source": [
    "### 연산자 "
   ]
  },
  {
   "cell_type": "code",
   "execution_count": null,
   "id": "8a3f8706",
   "metadata": {},
   "outputs": [],
   "source": []
  }
 ],
 "metadata": {
  "kernelspec": {
   "display_name": "Python 3 (ipykernel)",
   "language": "python",
   "name": "python3"
  },
  "language_info": {
   "codemirror_mode": {
    "name": "ipython",
    "version": 3
   },
   "file_extension": ".py",
   "mimetype": "text/x-python",
   "name": "python",
   "nbconvert_exporter": "python",
   "pygments_lexer": "ipython3",
   "version": "3.9.7"
  }
 },
 "nbformat": 4,
 "nbformat_minor": 5
}
