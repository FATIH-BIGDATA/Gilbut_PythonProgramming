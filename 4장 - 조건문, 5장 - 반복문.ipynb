{
 "cells": [
  {
   "cell_type": "markdown",
   "id": "3953226d",
   "metadata": {},
   "source": [
    "# 4장 조건문"
   ]
  },
  {
   "cell_type": "markdown",
   "id": "0ae2592a",
   "metadata": {},
   "source": [
    "## 4.1.4 조건문으로 간단한 프로그램 만들기"
   ]
  },
  {
   "cell_type": "code",
   "execution_count": 1,
   "id": "81e7e0f9",
   "metadata": {},
   "outputs": [
    {
     "name": "stdout",
     "output_type": "stream",
     "text": [
      "주문액 : 1\n",
      "배달비 3천원 부과\n",
      "합계 3001원이 결제됩니다.\n"
     ]
    }
   ],
   "source": [
    "price = int(input('주문액 : '))\n",
    "\n",
    "if price < 18000:\n",
    "    print(\"배달비 3천원 부과\")\n",
    "    price += 3000\n",
    "\n",
    "print(\"합계 {}원이 결제됩니다.\".format(price))    "
   ]
  },
  {
   "cell_type": "markdown",
   "id": "e7fc5a6a",
   "metadata": {},
   "source": [
    "### 4.2 else"
   ]
  },
  {
   "cell_type": "code",
   "execution_count": 2,
   "id": "b1b249b1",
   "metadata": {},
   "outputs": [
    {
     "name": "stdout",
     "output_type": "stream",
     "text": [
      "당신은 국가유공자입니까? (예, 아니오로 답변)1\n",
      "3만원이 부과됩니다.\n",
      "입장료를 지불하세요. 입장료는 3만원입니다. (숫자만 입력)1\n",
      "29999원을 더 내셨습니다. 잔돈을 받아가세요.\n"
     ]
    }
   ],
   "source": [
    "pat = input(\"당신은 국가유공자입니까? (예, 아니오로 답변)\")\n",
    "\n",
    "if pat == \"예\" :\n",
    "    print(\"당신은 과거에 이미 값을 지불하였습니다. 환영합니다.\")\n",
    "    fee = 0\n",
    "else : \n",
    "    print(\"3만원이 부과됩니다.\")\n",
    "    fee = 30000\n",
    "    \n",
    "    fee_sub = int(input(\"입장료를 지불하세요. 입장료는 3만원입니다. (숫자만 입력)\"))\n",
    "    \n",
    "    if fee >= 30000 :\n",
    "        print(\"{}원을 더 내셨습니다. 잔돈을 받아가세요.\".format(fee - fee_sub))\n",
    "    else :\n",
    "        print(\"{}원이 부족합니다. 부족 금액을 더 넣어주세요.\".format(fee_sub - fee))    "
   ]
  },
  {
   "cell_type": "markdown",
   "id": "88b4b047",
   "metadata": {},
   "source": [
    "#### elif를 사용해 추가로 조건을 부여할 수도 있음."
   ]
  },
  {
   "cell_type": "markdown",
   "id": "b1a76190",
   "metadata": {},
   "source": [
    "## Self Check"
   ]
  },
  {
   "cell_type": "code",
   "execution_count": 3,
   "id": "e5cfcf4c",
   "metadata": {},
   "outputs": [
    {
     "name": "stdout",
     "output_type": "stream",
     "text": [
      "기침을 하나요? (Y, N으로 답변)1\n",
      "체온을 입력하세요. (숫자만 입력)1\n",
      "안심하세요.\n"
     ]
    }
   ],
   "source": [
    "# 1. 코로나 의심 여부 확인 \n",
    "\n",
    "covid = input(\"기침을 하나요? (Y, N으로 답변)\")\n",
    "check = float(input(\"체온을 입력하세요. (숫자만 입력)\"))\n",
    "\n",
    "if covid == \"Y\" and check >= 38.5 :\n",
    "    print(\"코로나가 의심됩니다. 전문의를 찾아가세요.\")\n",
    "else :\n",
    "    print(\"안심하세요.\")"
   ]
  },
  {
   "cell_type": "code",
   "execution_count": 4,
   "id": "ab624e8f",
   "metadata": {},
   "outputs": [
    {
     "name": "stdout",
     "output_type": "stream",
     "text": [
      "점심 식사는 뭐로 하시겠습니까?1\n",
      "그 메뉴는 품절입니다.\n"
     ]
    }
   ],
   "source": [
    "# 2. 점심메뉴\n",
    "\n",
    "lunch = input(\"점심 식사는 뭐로 하시겠습니까?\")\n",
    "\n",
    "if lunch == \"라면\":\n",
    "    print(\"신라면\"); print(\"진라면 순한맛\")\n",
    "elif lunch == \"볶음밥\":\n",
    "    print(\"김치볶음밥\"); print(\"계란볶음밥\")\n",
    "else :\n",
    "    print(\"그 메뉴는 품절입니다.\")"
   ]
  },
  {
   "cell_type": "markdown",
   "id": "5995e5b0",
   "metadata": {},
   "source": [
    "# 5장 - 반복문\n",
    "## 5.1.3 십구십구단"
   ]
  },
  {
   "cell_type": "code",
   "execution_count": 5,
   "id": "b8b253cc",
   "metadata": {},
   "outputs": [
    {
     "name": "stdout",
     "output_type": "stream",
     "text": [
      "몇 단을 원해? (19단까지만!)1\n",
      "1 x 1 = 1\n",
      "1 x 2 = 2\n",
      "1 x 3 = 3\n",
      "1 x 4 = 4\n",
      "1 x 5 = 5\n",
      "1 x 6 = 6\n",
      "1 x 7 = 7\n",
      "1 x 8 = 8\n",
      "1 x 9 = 9\n",
      "1 x 10 = 10\n",
      "1 x 11 = 11\n",
      "1 x 12 = 12\n",
      "1 x 13 = 13\n",
      "1 x 14 = 14\n",
      "1 x 15 = 15\n",
      "1 x 16 = 16\n",
      "1 x 17 = 17\n",
      "1 x 18 = 18\n",
      "1 x 19 = 19\n"
     ]
    }
   ],
   "source": [
    "num = int(input('몇 단을 원해? (19단까지만!)'))\n",
    "\n",
    "for i in range(1, 20):\n",
    "    print(num, \"x\", i, \"=\", num * i)"
   ]
  },
  {
   "cell_type": "markdown",
   "id": "ed8fcacc",
   "metadata": {},
   "source": [
    "## 5.1.4 십구십구단 겜"
   ]
  },
  {
   "cell_type": "code",
   "execution_count": 6,
   "id": "61ccbacb",
   "metadata": {},
   "outputs": [],
   "source": [
    "import random as rd"
   ]
  },
  {
   "cell_type": "code",
   "execution_count": 7,
   "id": "16c405af",
   "metadata": {},
   "outputs": [
    {
     "name": "stdout",
     "output_type": "stream",
     "text": [
      "덤벼라 하수!\n",
      "20x5 = ?1\n",
      "16x13 = ?1\n",
      "7x20 = ?1\n"
     ]
    }
   ],
   "source": [
    "print(\"덤벼라 하수!\")\n",
    "\n",
    "for i in range(3):\n",
    "    a, b = rd.randint(2,20), rd.randint(1,20)\n",
    "    \n",
    "    ans = str(a) + 'x' + str(b) + \" = ?\"\n",
    "    input(ans)"
   ]
  },
  {
   "cell_type": "markdown",
   "id": "e3323fff",
   "metadata": {},
   "source": [
    "### 정답이 아니어도 넘어간다는 문제점!!!"
   ]
  },
  {
   "cell_type": "markdown",
   "id": "67e89d59",
   "metadata": {},
   "source": [
    "## 5.2.2 for과 while의 차이점"
   ]
  },
  {
   "cell_type": "code",
   "execution_count": 8,
   "id": "b90243e9",
   "metadata": {},
   "outputs": [
    {
     "name": "stdout",
     "output_type": "stream",
     "text": [
      "1월 1일은 연휴냐?\n",
      "1월 2일은 연휴냐?\n",
      "1월 3일은 연휴냐?\n"
     ]
    }
   ],
   "source": [
    "for a in range(1,4):\n",
    "    print(\"1월\", str(a) + \"일은 연휴냐?\")"
   ]
  },
  {
   "cell_type": "code",
   "execution_count": 9,
   "id": "f59db67b",
   "metadata": {},
   "outputs": [
    {
     "name": "stdout",
     "output_type": "stream",
     "text": [
      "1월 1일은 연휴냐?\n",
      "1월 2일은 연휴냐?\n",
      "1월 3일은 연휴냐?\n",
      "1월 4일은 연휴냐?\n"
     ]
    }
   ],
   "source": [
    "# while은 초기값을 지정해야 함\n",
    "b = 1\n",
    "\n",
    "while b <= 4:\n",
    "    print(\"1월\", str(b) + \"일은 연휴냐?\")\n",
    "    b += 1"
   ]
  },
  {
   "cell_type": "markdown",
   "id": "bbcc298b",
   "metadata": {},
   "source": [
    "## 5.3.1 반복문과 조건문의 혼용\n",
    "### 구구단 게임 수정판"
   ]
  },
  {
   "cell_type": "code",
   "execution_count": 11,
   "id": "1d915db0",
   "metadata": {},
   "outputs": [
    {
     "name": "stdout",
     "output_type": "stream",
     "text": [
      "덤벼라 하수!\n",
      "4x8 = ?32\n",
      "4x10 = ?40\n",
      "4x5 = ?20\n"
     ]
    }
   ],
   "source": [
    "print(\"덤벼라 하수!\")\n",
    "\n",
    "for i in range(3):\n",
    "    x, y = rd.randint(2,20), rd.randint(1,20)\n",
    "    q = str(x) + 'x' + str(y) + \" = ?\"\n",
    "    a = int(input(q))\n",
    "    \n",
    "    if a != x * y:\n",
    "        print(\"ㅉㅉ\")"
   ]
  },
  {
   "cell_type": "markdown",
   "id": "ca16256a",
   "metadata": {},
   "source": [
    "## 5.4.2 break 추가"
   ]
  },
  {
   "cell_type": "code",
   "execution_count": 13,
   "id": "08e1a750",
   "metadata": {},
   "outputs": [
    {
     "name": "stdout",
     "output_type": "stream",
     "text": [
      "덤벼라 하수!\n",
      "19x1 = ?20\n",
      "ㅉㅉ\n"
     ]
    }
   ],
   "source": [
    "print(\"덤벼라 하수!\")\n",
    "\n",
    "for i in range(3):\n",
    "    x, y = rd.randint(2,20), rd.randint(1,20)\n",
    "    q = str(x) + 'x' + str(y) + \" = ?\"\n",
    "    a = int(input(q))\n",
    "    \n",
    "    if a != x * y:\n",
    "        print(\"ㅉㅉ\")\n",
    "        break"
   ]
  },
  {
   "cell_type": "markdown",
   "id": "87245db8",
   "metadata": {},
   "source": [
    "## Self Check"
   ]
  },
  {
   "cell_type": "code",
   "execution_count": 14,
   "id": "65334617",
   "metadata": {},
   "outputs": [
    {
     "name": "stdout",
     "output_type": "stream",
     "text": [
      "10\n",
      "20\n",
      "30\n",
      "40\n",
      "50\n",
      "60\n",
      "70\n",
      "80\n",
      "90\n",
      "100\n"
     ]
    }
   ],
   "source": [
    "# 1. 10~100을 10간격으로 출력\n",
    "\n",
    "for i in range(1, 11):\n",
    "    print(10 * i)"
   ]
  },
  {
   "cell_type": "code",
   "execution_count": 15,
   "id": "10459c53",
   "metadata": {},
   "outputs": [
    {
     "name": "stdout",
     "output_type": "stream",
     "text": [
      "홈트레이닝 14일 플랜!\n",
      "1일: 스쿼트 - 푸시업 - 레그 레이즈\n",
      "2일: 스쿼트 - 푸시업 - 레그 레이즈\n",
      "3일: 스쿼트 - 푸시업 - 레그 레이즈\n",
      "4일: 스쿼트 - 푸시업 - 레그 레이즈\n",
      "5일: 스쿼트 - 푸시업 - 레그 레이즈\n",
      "5일: 쉬는날\n",
      "6일: 스쿼트 - 푸시업 - 레그 레이즈\n",
      "7일: 스쿼트 - 푸시업 - 레그 레이즈\n",
      "8일: 스쿼트 - 푸시업 - 레그 레이즈\n",
      "9일: 스쿼트 - 푸시업 - 레그 레이즈\n",
      "10일: 스쿼트 - 푸시업 - 레그 레이즈\n",
      "10일: 쉬는날\n",
      "11일: 스쿼트 - 푸시업 - 레그 레이즈\n",
      "12일: 스쿼트 - 푸시업 - 레그 레이즈\n",
      "13일: 스쿼트 - 푸시업 - 레그 레이즈\n",
      "14일: 스쿼트 - 푸시업 - 레그 레이즈\n"
     ]
    }
   ],
   "source": [
    "# 2. 홈트레이닝 계획\n",
    "\n",
    "print('홈트레이닝 14일 플랜!')\n",
    "\n",
    "for i in range(1,15):\n",
    "    print(str(i) + \"일: 스쿼트 - 푸시업 - 레그 레이즈\")\n",
    "    \n",
    "    if i % 5 == 0:\n",
    "        print(str(i) + \"일: 쉬는날\")"
   ]
  },
  {
   "cell_type": "code",
   "execution_count": null,
   "id": "f170d1ee",
   "metadata": {},
   "outputs": [],
   "source": [
    "# 3. 후라이팬 놀이 - 이거 만든 사람 나이 좀 있네... 앗 이걸 아는 나도?\n",
    "\n",
    "print(\"팅팅팅팅 탱탱탱탱 후라이팬 놀이~!\")\n",
    "\n",
    "for i in range(3):\n",
    "    \n",
    "    a = input(\"이름?\")\n",
    "    b = int(input(\"횟수?\"))\n",
    "    print(a * b)   "
   ]
  }
 ],
 "metadata": {
  "kernelspec": {
   "display_name": "Python 3 (ipykernel)",
   "language": "python",
   "name": "python3"
  },
  "language_info": {
   "codemirror_mode": {
    "name": "ipython",
    "version": 3
   },
   "file_extension": ".py",
   "mimetype": "text/x-python",
   "name": "python",
   "nbconvert_exporter": "python",
   "pygments_lexer": "ipython3",
   "version": "3.9.7"
  }
 },
 "nbformat": 4,
 "nbformat_minor": 5
}
