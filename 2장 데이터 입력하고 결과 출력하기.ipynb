{
 "cells": [
  {
   "cell_type": "markdown",
   "id": "6b7eda93",
   "metadata": {},
   "source": [
    "# 2장 데이터 입력하고 결과 출력하기"
   ]
  },
  {
   "cell_type": "markdown",
   "id": "7bb4027e",
   "metadata": {},
   "source": [
    "## 출력 명령어 - print"
   ]
  },
  {
   "cell_type": "code",
   "execution_count": 1,
   "id": "e087aa18",
   "metadata": {},
   "outputs": [
    {
     "name": "stdout",
     "output_type": "stream",
     "text": [
      "2022\n"
     ]
    }
   ],
   "source": [
    "print(2022)"
   ]
  },
  {
   "cell_type": "code",
   "execution_count": 2,
   "id": "340f036b",
   "metadata": {},
   "outputs": [
    {
     "name": "stdout",
     "output_type": "stream",
     "text": [
      "동계올림픽\n"
     ]
    }
   ],
   "source": [
    "print(\"동계올림픽\")"
   ]
  },
  {
   "cell_type": "code",
   "execution_count": 3,
   "id": "b7e046b2",
   "metadata": {},
   "outputs": [
    {
     "name": "stdout",
     "output_type": "stream",
     "text": [
      "2022\n"
     ]
    }
   ],
   "source": [
    "print(\"2022\")"
   ]
  },
  {
   "cell_type": "markdown",
   "id": "a4d8660b",
   "metadata": {},
   "source": [
    "#### 큰(작은) 따옴표가 들어가면 문자로 취급"
   ]
  },
  {
   "cell_type": "code",
   "execution_count": 4,
   "id": "d00c743e",
   "metadata": {},
   "outputs": [
    {
     "name": "stdout",
     "output_type": "stream",
     "text": [
      "2022\n"
     ]
    }
   ],
   "source": [
    "print(2000 + 22)"
   ]
  },
  {
   "cell_type": "code",
   "execution_count": 5,
   "id": "0f422d8c",
   "metadata": {},
   "outputs": [
    {
     "name": "stdout",
     "output_type": "stream",
     "text": [
      "2000 + 22\n"
     ]
    }
   ],
   "source": [
    "print(\"2000 + 22\")"
   ]
  },
  {
   "cell_type": "markdown",
   "id": "8886226c",
   "metadata": {},
   "source": [
    "### 특이한 연산자"
   ]
  },
  {
   "cell_type": "code",
   "execution_count": 6,
   "id": "093f0765",
   "metadata": {},
   "outputs": [
    {
     "name": "stdout",
     "output_type": "stream",
     "text": [
      "90\n",
      "20\n",
      "400\n"
     ]
    }
   ],
   "source": [
    "# 1. //, 몫을 취함\n",
    "\n",
    "print(2000 // 22)\n",
    "\n",
    "# 2. %, 나머지를 취함\n",
    "\n",
    "print(2000 % 22)\n",
    "\n",
    "# 3. **, 제곱\n",
    "\n",
    "print(20 ** 2)"
   ]
  },
  {
   "cell_type": "markdown",
   "id": "690df722",
   "metadata": {},
   "source": [
    "### 연결하여 출력"
   ]
  },
  {
   "cell_type": "code",
   "execution_count": 8,
   "id": "5dc7c287",
   "metadata": {},
   "outputs": [
    {
     "name": "stdout",
     "output_type": "stream",
     "text": [
      "파이썬공부\n",
      "파이썬 공부\n",
      "파이썬 공부 꿀잼\n",
      "파이썬 공부꿀잼\n"
     ]
    }
   ],
   "source": [
    "# +로 연결하면 붙어서, 쉼표로 연결하면 띄어쓰기 처리\n",
    "\n",
    "print('파이썬' + '공부')\n",
    "print('파이썬', '공부')\n",
    "\n",
    "# 혼용도 가능\n",
    "\n",
    "print('파이썬', '공부', '꿀잼')\n",
    "print('파이썬', '공부' + '꿀잼')"
   ]
  },
  {
   "cell_type": "code",
   "execution_count": null,
   "id": "01034a2d",
   "metadata": {},
   "outputs": [],
   "source": []
  },
  {
   "cell_type": "markdown",
   "id": "6fa73900",
   "metadata": {},
   "source": [
    "## 입력 명령어 - input"
   ]
  },
  {
   "cell_type": "code",
   "execution_count": 4,
   "id": "34ad1dc2",
   "metadata": {},
   "outputs": [
    {
     "name": "stdout",
     "output_type": "stream",
     "text": [
      "오늘은 화이트데이\n"
     ]
    },
    {
     "data": {
      "text/plain": [
       "'오늘은 화이트데이'"
      ]
     },
     "execution_count": 4,
     "metadata": {},
     "output_type": "execute_result"
    }
   ],
   "source": [
    "# 값 입력 (입력할 수 있는 공란 생성됨.)\n",
    "\n",
    "input()"
   ]
  },
  {
   "cell_type": "markdown",
   "id": "1f8549ef",
   "metadata": {},
   "source": [
    "### 혼합사용"
   ]
  },
  {
   "cell_type": "code",
   "execution_count": 5,
   "id": "62ed5f00",
   "metadata": {},
   "outputs": [
    {
     "name": "stdout",
     "output_type": "stream",
     "text": [
      "너의 이름은? : 김한우\n",
      "너의 성별은? : 남자\n",
      "삐빅 인증되었습니다.\n"
     ]
    }
   ],
   "source": [
    "input(\"너의 이름은? : \")\n",
    "input(\"너의 성별은? : \")\n",
    "print(\"삐빅 인증되었습니다.\")"
   ]
  },
  {
   "cell_type": "code",
   "execution_count": null,
   "id": "f96d20bc",
   "metadata": {},
   "outputs": [],
   "source": []
  },
  {
   "cell_type": "markdown",
   "id": "fdd94e2b",
   "metadata": {},
   "source": [
    "## Self Check"
   ]
  },
  {
   "cell_type": "code",
   "execution_count": 1,
   "id": "dec92808",
   "metadata": {},
   "outputs": [
    {
     "name": "stdout",
     "output_type": "stream",
     "text": [
      "+++인수위원장 안철수+++\n"
     ]
    }
   ],
   "source": [
    "# 1. print 명령어와 문자, 연산자를 조합해 문장 만들기\n",
    "\n",
    "print(\"+\" * 3 + \"인수위원장 안철수\" + \"+\" * 3)"
   ]
  },
  {
   "cell_type": "code",
   "execution_count": 6,
   "id": "29ec0f74",
   "metadata": {},
   "outputs": [
    {
     "name": "stdout",
     "output_type": "stream",
     "text": [
      "안녕하세요 고객님. 성함이 어떻게 되시나요?제퍼슨\n",
      "제퍼슨님 어서오십시오.\n"
     ]
    }
   ],
   "source": [
    "# 2. 이름을 입력받고 예약 명단 확인 (print, input 사용)\n",
    "\n",
    "print(input(\"안녕하세요 고객님. 성함이 어떻게 되시나요?\") + '님 어서오십시오.')"
   ]
  },
  {
   "cell_type": "code",
   "execution_count": null,
   "id": "b01bb0f6",
   "metadata": {},
   "outputs": [],
   "source": []
  },
  {
   "cell_type": "code",
   "execution_count": null,
   "id": "300435c8",
   "metadata": {},
   "outputs": [],
   "source": []
  }
 ],
 "metadata": {
  "kernelspec": {
   "display_name": "Python 3 (ipykernel)",
   "language": "python",
   "name": "python3"
  },
  "language_info": {
   "codemirror_mode": {
    "name": "ipython",
    "version": 3
   },
   "file_extension": ".py",
   "mimetype": "text/x-python",
   "name": "python",
   "nbconvert_exporter": "python",
   "pygments_lexer": "ipython3",
   "version": "3.9.7"
  }
 },
 "nbformat": 4,
 "nbformat_minor": 5
}
