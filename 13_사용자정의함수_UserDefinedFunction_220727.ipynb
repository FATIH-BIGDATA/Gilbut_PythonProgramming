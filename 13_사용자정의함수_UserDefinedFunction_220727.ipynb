{
 "cells": [
  {
   "cell_type": "markdown",
   "id": "12e9f173",
   "metadata": {},
   "source": [
    "[함수 정의] def 함수(매개변수)\n",
    "\n",
    "[함수 호출] 함수(매개변수 = 인자)"
   ]
  },
  {
   "cell_type": "markdown",
   "id": "8a344acc",
   "metadata": {},
   "source": [
    "### 지역변수, 전역변수"
   ]
  },
  {
   "cell_type": "code",
   "execution_count": 1,
   "id": "54bd6702",
   "metadata": {},
   "outputs": [
    {
     "name": "stdout",
     "output_type": "stream",
     "text": [
      "4 1\n"
     ]
    }
   ],
   "source": [
    "def test1():\n",
    "    global x, y\n",
    "    x *= 2\n",
    "    y %= 2\n",
    "    print(x, y)\n",
    "    \n",
    "x, y = 2,3\n",
    "test1()"
   ]
  },
  {
   "cell_type": "markdown",
   "id": "01ad1d63",
   "metadata": {},
   "source": [
    "전역변수는 함수의 범위 밖에서도 쓰이는 변수다."
   ]
  },
  {
   "cell_type": "markdown",
   "id": "409859cc",
   "metadata": {},
   "source": [
    "### 1. 프로젝트 함수화"
   ]
  },
  {
   "cell_type": "markdown",
   "id": "42d3f5ee",
   "metadata": {},
   "source": [
    "#### 1-1 파일 읽기"
   ]
  },
  {
   "cell_type": "code",
   "execution_count": 2,
   "id": "586c30f0",
   "metadata": {},
   "outputs": [],
   "source": [
    "# load library\n",
    "import csv\n",
    "from openpyxl import load_workbook as lw\n",
    "\n",
    "def load_file():\n",
    "    # 생활인구 데이터\n",
    "    f = open(\"./data/LOCAL_PEOPLE_DONG_202206.csv\", \n",
    "            encoding = 'utf8')\n",
    "    data = csv.reader(f)\n",
    "    next(data) # 컬럼명 제거\n",
    "    data = list(data)\n",
    "\n",
    "    # 행정동 코드 데이터\n",
    "    code = lw(\"./data/행정동코드_매핑정보_20200325.xlsx\", \n",
    "                            data_only = True) # 수식 제외 셀값만 가져오기\n",
    "\n",
    "    # 행정동코드 시트의 데이터 가져오기\n",
    "    code = code['행정동코드']\n",
    "\n",
    "    # 행과 열의 데이터 출력 \n",
    "    all_cell = []\n",
    "\n",
    "    # code 데이터를 행 단위로 가져온다.\n",
    "    for r in code.rows:\n",
    "        r_value = [] # 빈 셀을 만든다\n",
    "\n",
    "        # 행 단위로 가져온 데이터에서 셀값을 추출해 리스트에 담는다.\n",
    "        for cell in r:\n",
    "            r_value.append(cell.value)\n",
    "\n",
    "        # 위의 과정을 반복하며 모든 데이터를 가져온다.\n",
    "        all_cell.append(r_value)\n",
    "\n",
    "    # 컬럼을 제외한다.\n",
    "    code = all_cell[2:]\n",
    "    \n",
    "    # 위경도 데이터\n",
    "    f2 = open(\"./data/서울시 행정동별 전력 사용량 2008년 위치정보 (좌표계_ WGS1984).csv\", \n",
    "            encoding = 'cp949')\n",
    "    where = csv.reader(f2)\n",
    "    next(where) # 컬럼명 제거\n",
    "    where = list(where)\n",
    "    \n",
    "    # 행정동 데이터 자료형 변환\n",
    "    for row in data:\n",
    "        for i in range(32):\n",
    "            if i == 0 :\n",
    "                row[i] = str(row[i])\n",
    "            elif i <= 2 :\n",
    "                row[i] = int(row[i])\n",
    "            else :\n",
    "                row[i] = float(row[i])\n",
    "\n",
    "    # 코드 데이터 자료형 변환\n",
    "    for row in code:\n",
    "        row[1] = int(row[1])\n",
    "        \n",
    "    # 위경도 데이터 자료형 변환\n",
    "    for row in where:\n",
    "        row[2], row[-2], row[-1] = int(row[2]), float(row[-2]), float(row[-1])  \n",
    "        \n",
    "    return data, code, where"
   ]
  },
  {
   "cell_type": "markdown",
   "id": "f9d0fcb0",
   "metadata": {},
   "source": [
    "#### 1-2 동 이름과 코드 연결"
   ]
  },
  {
   "cell_type": "code",
   "execution_count": 3,
   "id": "9303259b",
   "metadata": {},
   "outputs": [],
   "source": [
    "def link_dong(dong):\n",
    "    \n",
    "    for row in code:\n",
    "        if row[-1] == dong:\n",
    "            dong_code = row[1]\n",
    "\n",
    "    print(dong, \"(\" , dong_code , \")\" + \"을 살펴봅니다!\")\n",
    "    return dong_code"
   ]
  },
  {
   "cell_type": "markdown",
   "id": "e3980f2c",
   "metadata": {},
   "source": [
    "#### 1-3 꺾은선 그래프 함수 작성"
   ]
  },
  {
   "cell_type": "code",
   "execution_count": 4,
   "id": "b8530891",
   "metadata": {},
   "outputs": [],
   "source": [
    "import matplotlib.pyplot as plt\n",
    "\n",
    "def linegraph(pop_list, label_list, title):\n",
    "    plt.rc('font', family = \"Malgun Gothic\")\n",
    "    plt.title(title, pad = 15)\n",
    "\n",
    "    for i in range(len(pop_list)):\n",
    "        plt.plot(range(24), pop_list[i], label = label_list[i])\n",
    "        \n",
    "    plt.xticks(range(24), range(24))\n",
    "    plt.legend(loc = \"best\")\n",
    "    plt.show()"
   ]
  },
  {
   "cell_type": "markdown",
   "id": "996bccd6",
   "metadata": {},
   "source": [
    "#### 1-4 시간대별 인구 분석"
   ]
  },
  {
   "cell_type": "code",
   "execution_count": 5,
   "id": "d1dcaf54",
   "metadata": {},
   "outputs": [],
   "source": [
    "def time_pop(dong, dong_code, make_line = 'y'):\n",
    "    \n",
    "    pop = [0 for i in range(24)]\n",
    "    \n",
    "    for row in data :\n",
    "        if row[2] == dong_code:\n",
    "            pop[row[1]] += row[3]\n",
    "\n",
    "    pop = [i/31 for i in pop]\n",
    "    \n",
    "    if make_line == 'n':\n",
    "        return pop\n",
    "    \n",
    "    pop = [pop]\n",
    "    label = ['평균 생활인구']\n",
    "    title = dong + \" 시간대별 평균 생활인구\"\n",
    "    linegraph(pop, label, title)"
   ]
  },
  {
   "cell_type": "markdown",
   "id": "8f442d17",
   "metadata": {},
   "source": [
    "#### 1-5 주중/말 분석 "
   ]
  },
  {
   "cell_type": "code",
   "execution_count": 6,
   "id": "5a4e6fc3",
   "metadata": {},
   "outputs": [],
   "source": [
    "import datetime as dt\n",
    "\n",
    "def week_pop(dong, dong_code):\n",
    "    \n",
    "    weekday = [0 for i in range(24)]\n",
    "    weekend = [0 for i in range(24)]\n",
    "\n",
    "    for row in data:\n",
    "        if row[2] == dong_code:\n",
    "            if dt.date(int(row[0][:4]), int(row[0][4:6]), int(row[0][6:])).weekday() < 5:\n",
    "                weekday[row[1]] += row[3]\n",
    "            else :\n",
    "                weekend[row[1]] += row[3]\n",
    "\n",
    "    # 2021년 1월의 주중/주말 일수 구하기\n",
    "    day_num, end_num = 0,0\n",
    "\n",
    "    for i in range(1,32):\n",
    "        if dt.date(2021,1,i).weekday() < 5:\n",
    "            day_num +=1\n",
    "        else:\n",
    "            end_num +=1\n",
    "\n",
    "    weekday = [w/day_num for w in weekday]\n",
    "    weekend = [w/end_num for w in weekend]\n",
    "    \n",
    "    tar_data = [weekday, weekend]\n",
    "    label = ['주중', '주말']\n",
    "    title = dong + \" 주중/말 평균 생활인구\"\n",
    "    linegraph(tar_data, label, title)"
   ]
  },
  {
   "cell_type": "markdown",
   "id": "5f122588",
   "metadata": {},
   "source": [
    "#### 1-6 성별 분석"
   ]
  },
  {
   "cell_type": "code",
   "execution_count": 7,
   "id": "0ab9ffd1",
   "metadata": {},
   "outputs": [],
   "source": [
    "def sex_pop(dong, dong_code):\n",
    "    \n",
    "    man = [0 for i in range(24)]\n",
    "    woman = [0 for i in range(24)]\n",
    "\n",
    "    for row in data:\n",
    "        if row[2] == dong_code:\n",
    "            man[row[1]] += sum(row[4:18])\n",
    "            woman[row[1]] += sum(row[18:32])\n",
    "\n",
    "    man = [m/31 for m in man]\n",
    "    woman = [w/31 for w in woman]\n",
    "    \n",
    "    tar_data = [man, woman]\n",
    "    label = ['남', '여']\n",
    "    title = dong + \" 성별 평균 생활인구\"\n",
    "    linegraph(tar_data, label, title)"
   ]
  },
  {
   "cell_type": "markdown",
   "id": "ecd213ea",
   "metadata": {},
   "source": [
    "#### 1-7 타 행정동과의 비교"
   ]
  },
  {
   "cell_type": "code",
   "execution_count": 8,
   "id": "f39d508a",
   "metadata": {},
   "outputs": [],
   "source": [
    "def diff_pop(dong, dong_code):\n",
    "    \n",
    "    # 비교할 행정동 코드 찾기\n",
    "    dong2 = input(\"비교할 행정동은? ==> \")\n",
    "    dong_code2 = link_dong(dong2)\n",
    "    \n",
    "    # 두 지역의 평균 생활인구 구하기\n",
    "    pop_a = time_pop(dong, dong_code, 'n')\n",
    "    pop_b = time_pop(dong2, dong_code2, 'n')\n",
    "    \n",
    "    # 꺾은선 그래프 그리기\n",
    "    tar_data = [pop_a, pop_b]\n",
    "    label = [dong, dong2]\n",
    "    title = dong + \" & \" + dong2 + \" 시간대별 평균 생활인구\"\n",
    "    linegraph(tar_data, label, title)"
   ]
  },
  {
   "cell_type": "markdown",
   "id": "f5e61352",
   "metadata": {},
   "source": [
    "#### 1-8 지도 만들기"
   ]
  },
  {
   "cell_type": "code",
   "execution_count": 9,
   "id": "3d408203",
   "metadata": {},
   "outputs": [],
   "source": [
    "import folium as fol\n",
    "import operator as op\n",
    "\n",
    "def topk_map(k):\n",
    "      \n",
    "    pop = {}\n",
    "\n",
    "    for r in data:\n",
    "        dong_code, p = r[2], r[3]\n",
    "\n",
    "        if dong_code not in pop.keys():\n",
    "            pop[dong_code] = p\n",
    "        else :\n",
    "            pop[dong_code] += p\n",
    "\n",
    "    top = sorted(pop.items(), key = op.itemgetter(1), reverse = True)[:k]\n",
    "\n",
    "    # 행정동 코드 저장\n",
    "    top_code = [c[0] for c in top]\n",
    "    \n",
    "    top_name = [0 for i in range(k)]\n",
    "    top_lat = [0 for i in range(k)]\n",
    "    top_long = [0 for i in range(k)]\n",
    "\n",
    "    for i in range(len(top)):\n",
    "        \n",
    "        # 행정동 이름\n",
    "        for r in code:\n",
    "            if r[1] == top_code[i]:\n",
    "                top_name[i] = r[-1]   \n",
    "\n",
    "        # 행정동 위경도\n",
    "        for r in where:\n",
    "            if r[3] == top_name[i]:\n",
    "                top_lat[i], top_long[i] = r[-1], r[-2]\n",
    "\n",
    "    for i in range(len(top_name)):\n",
    "    \n",
    "        # 위경도에 0인 데이터가 있으면\n",
    "        if top_lat[i] == 0 or top_long[i] == 0 :\n",
    "\n",
    "            # 7자리 행정동 코드 저장 \n",
    "            for r in code:\n",
    "                if top_code[i] == r[1]:\n",
    "                    code7 = r[0]\n",
    "\n",
    "            # 7자리 코드 위경도 구하기\n",
    "            for r in where:\n",
    "                if code7 == r[2]:\n",
    "                    top_lat[i], top_long[i] = r[-1], r[-2]\n",
    "        \n",
    "    # 지도 그리기\n",
    "    for i in range(len(top_code)):\n",
    "        top_name[i] = str(i + 1) + '-' + top_name[i]\n",
    "    \n",
    "    topk_map = fol.Map([top_lat[0], top_long[0]], zoom_start = 10)\n",
    "\n",
    "    for i in range(k):\n",
    "        fol.Marker([top_lat[i], top_long[i]], tooltip = top_name[i],\n",
    "              icon = fol.Icon(color = \"purple\", icon_color = \"yellow\", icon = \"star\",\n",
    "                             prefix = 'fa')).add_to(topk_map)\n",
    "\n",
    "    return topk_map"
   ]
  },
  {
   "cell_type": "markdown",
   "id": "24dae8dd",
   "metadata": {},
   "source": [
    "### 2. 함수 호출"
   ]
  },
  {
   "cell_type": "code",
   "execution_count": 10,
   "id": "4e2f8277",
   "metadata": {},
   "outputs": [
    {
     "name": "stdout",
     "output_type": "stream",
     "text": [
      "찾으려는 행정동을 입력하세요! => 여의동\n",
      "여의동 ( 11560540 )을 살펴봅니다!\n"
     ]
    },
    {
     "data": {
      "image/png": "[encoded data removed]",
      "text/plain": [
       "<Figure size 432x288 with 1 Axes>"
      ]
     },
     "metadata": {
      "needs_background": "light"
     },
     "output_type": "display_data"
    },
    {
     "data": {
      "image/png": "[encoded data removed]",
      "text/plain": [
       "<Figure size 432x288 with 1 Axes>"
      ]
     },
     "metadata": {
      "needs_background": "light"
     },
     "output_type": "display_data"
    },
    {
     "data": {
      "image/png": "[encoded data removed]",
      "text/plain": [
       "<Figure size 432x288 with 1 Axes>"
      ]
     },
     "metadata": {
      "needs_background": "light"
     },
     "output_type": "display_data"
    },
    {
     "name": "stdout",
     "output_type": "stream",
     "text": [
      "비교할 행정동은? ==> 역삼1동\n",
      "역삼1동 ( 11680640 )을 살펴봅니다!\n"
     ]
    },
    {
     "data": {
      "image/png": "[encoded data removed]",
      "text/plain": [
       "<Figure size 432x288 with 1 Axes>"
      ]
     },
     "metadata": {
      "needs_background": "light"
     },
     "output_type": "display_data"
    },
    {
     "data": {
      "text/html": [
       "<div style=\"width:100%;\"><div style=\"position:relative;width:100%;height:0;padding-bottom:60%;\"><span style=\"color:#565656\">Make this Notebook Trusted to load map: File -> Trust Notebook</span><iframe srcdoc=\"&lt;!DOCTYPE html&gt;\n",
       "&lt;head&gt;    \n",
       "    &lt;meta http-equiv=&quot;content-type&quot; content=&quot;text/html; charset=UTF-8&quot; /&gt;\n",
       "    \n",
       "        &lt;script&gt;\n",
       "            L_NO_TOUCH = false;\n",
       "            L_DISABLE_3D = false;\n",
       "        &lt;/script&gt;\n",
       "    \n",
       "    &lt;style&gt;html, body {width: 100%;height: 100%;margin: 0;padding: 0;}&lt;/style&gt;\n",
       "    &lt;style&gt;#map {position:absolute;top:0;bottom:0;right:0;left:0;}&lt;/style&gt;\n",
       "    &lt;script src=&quot;https://cdn.jsdelivr.net/npm/leaflet@1.6.0/dist/leaflet.js&quot;&gt;&lt;/script&gt;\n",
       "    &lt;script src=&quot;https://code.jquery.com/jquery-1.12.4.min.js&quot;&gt;&lt;/script&gt;\n",
       "    &lt;script src=&quot;https://maxcdn.bootstrapcdn.com/bootstrap/3.2.0/js/bootstrap.min.js&quot;&gt;&lt;/script&gt;\n",
       "    &lt;script src=&quot;https://cdnjs.cloudflare.com/ajax/libs/Leaflet.awesome-markers/2.0.2/leaflet.awesome-markers.js&quot;&gt;&lt;/script&gt;\n",
       "    &lt;link rel=&quot;stylesheet&quot; href=&quot;https://cdn.jsdelivr.net/npm/leaflet@1.6.0/dist/leaflet.css&quot;/&gt;\n",
       "    &lt;link rel=&quot;stylesheet&quot; href=&quot;https://maxcdn.bootstrapcdn.com/bootstrap/3.2.0/css/bootstrap.min.css&quot;/&gt;\n",
       "    &lt;link rel=&quot;stylesheet&quot; href=&quot;https://maxcdn.bootstrapcdn.com/bootstrap/3.2.0/css/bootstrap-theme.min.css&quot;/&gt;\n",
       "    &lt;link rel=&quot;stylesheet&quot; href=&quot;https://maxcdn.bootstrapcdn.com/font-awesome/4.6.3/css/font-awesome.min.css&quot;/&gt;\n",
       "    &lt;link rel=&quot;stylesheet&quot; href=&quot;https://cdnjs.cloudflare.com/ajax/libs/Leaflet.awesome-markers/2.0.2/leaflet.awesome-markers.css&quot;/&gt;\n",
       "    &lt;link rel=&quot;stylesheet&quot; href=&quot;https://cdn.jsdelivr.net/gh/python-visualization/folium/folium/templates/leaflet.awesome.rotate.min.css&quot;/&gt;\n",
       "    \n",
       "            &lt;meta name=&quot;viewport&quot; content=&quot;width=device-width,\n",
       "                initial-scale=1.0, maximum-scale=1.0, user-scalable=no&quot; /&gt;\n",
       "            &lt;style&gt;\n",
       "                #map_87ba7dc4e9dbced09d3af9776d93d66c {\n",
       "                    position: relative;\n",
       "                    width: 100.0%;\n",
       "                    height: 100.0%;\n",
       "                    left: 0.0%;\n",
       "                    top: 0.0%;\n",
       "                }\n",
       "            &lt;/style&gt;\n",
       "        \n",
       "&lt;/head&gt;\n",
       "&lt;body&gt;    \n",
       "    \n",
       "            &lt;div class=&quot;folium-map&quot; id=&quot;map_87ba7dc4e9dbced09d3af9776d93d66c&quot; &gt;&lt;/div&gt;\n",
       "        \n",
       "&lt;/body&gt;\n",
       "&lt;script&gt;    \n",
       "    \n",
       "            var map_87ba7dc4e9dbced09d3af9776d93d66c = L.map(\n",
       "                &quot;map_87ba7dc4e9dbced09d3af9776d93d66c&quot;,\n",
       "                {\n",
       "                    center: [37.4999211, 127.0367584],\n",
       "                    crs: L.CRS.EPSG3857,\n",
       "                    zoom: 10,\n",
       "                    zoomControl: true,\n",
       "                    preferCanvas: false,\n",
       "                }\n",
       "            );\n",
       "\n",
       "            \n",
       "\n",
       "        \n",
       "    \n",
       "            var tile_layer_517d5fc62e9fa5055048bc61522b9905 = L.tileLayer(\n",
       "                &quot;https://{s}.tile.openstreetmap.org/{z}/{x}/{y}.png&quot;,\n",
       "                {&quot;attribution&quot;: &quot;Data by \\u0026copy; \\u003ca href=\\&quot;http://openstreetmap.org\\&quot;\\u003eOpenStreetMap\\u003c/a\\u003e, under \\u003ca href=\\&quot;http://www.openstreetmap.org/copyright\\&quot;\\u003eODbL\\u003c/a\\u003e.&quot;, &quot;detectRetina&quot;: false, &quot;maxNativeZoom&quot;: 18, &quot;maxZoom&quot;: 18, &quot;minZoom&quot;: 0, &quot;noWrap&quot;: false, &quot;opacity&quot;: 1, &quot;subdomains&quot;: &quot;abc&quot;, &quot;tms&quot;: false}\n",
       "            ).addTo(map_87ba7dc4e9dbced09d3af9776d93d66c);\n",
       "        \n",
       "    \n",
       "            var marker_bb2068cd521c323e72e02cd785653dd9 = L.marker(\n",
       "                [37.4999211, 127.0367584],\n",
       "                {}\n",
       "            ).addTo(map_87ba7dc4e9dbced09d3af9776d93d66c);\n",
       "        \n",
       "    \n",
       "            var icon_25d16d161ac5d47c1eaded67bde03dbb = L.AwesomeMarkers.icon(\n",
       "                {&quot;extraClasses&quot;: &quot;fa-rotate-0&quot;, &quot;icon&quot;: &quot;star&quot;, &quot;iconColor&quot;: &quot;yellow&quot;, &quot;markerColor&quot;: &quot;purple&quot;, &quot;prefix&quot;: &quot;fa&quot;}\n",
       "            );\n",
       "            marker_bb2068cd521c323e72e02cd785653dd9.setIcon(icon_25d16d161ac5d47c1eaded67bde03dbb);\n",
       "        \n",
       "    \n",
       "            marker_bb2068cd521c323e72e02cd785653dd9.bindTooltip(\n",
       "                `&lt;div&gt;\n",
       "                     1-역삼1동\n",
       "                 &lt;/div&gt;`,\n",
       "                {&quot;sticky&quot;: true}\n",
       "            );\n",
       "        \n",
       "    \n",
       "            var marker_3a3de83950138fa24909ce99580f1dca = L.marker(\n",
       "                [37.5286662, 126.9290731],\n",
       "                {}\n",
       "            ).addTo(map_87ba7dc4e9dbced09d3af9776d93d66c);\n",
       "        \n",
       "    \n",
       "            var icon_f11121734fcc6aed6bb0569636e29bb9 = L.AwesomeMarkers.icon(\n",
       "                {&quot;extraClasses&quot;: &quot;fa-rotate-0&quot;, &quot;icon&quot;: &quot;star&quot;, &quot;iconColor&quot;: &quot;yellow&quot;, &quot;markerColor&quot;: &quot;purple&quot;, &quot;prefix&quot;: &quot;fa&quot;}\n",
       "            );\n",
       "            marker_3a3de83950138fa24909ce99580f1dca.setIcon(icon_f11121734fcc6aed6bb0569636e29bb9);\n",
       "        \n",
       "    \n",
       "            marker_3a3de83950138fa24909ce99580f1dca.bindTooltip(\n",
       "                `&lt;div&gt;\n",
       "                     2-여의동\n",
       "                 &lt;/div&gt;`,\n",
       "                {&quot;sticky&quot;: true}\n",
       "            );\n",
       "        \n",
       "    \n",
       "            var marker_a22da05e3bef119e973685bb47586948 = L.marker(\n",
       "                [37.5550337, 126.9228533],\n",
       "                {}\n",
       "            ).addTo(map_87ba7dc4e9dbced09d3af9776d93d66c);\n",
       "        \n",
       "    \n",
       "            var icon_ff0984f3bd41673cbc842d5bdd4af2da = L.AwesomeMarkers.icon(\n",
       "                {&quot;extraClasses&quot;: &quot;fa-rotate-0&quot;, &quot;icon&quot;: &quot;star&quot;, &quot;iconColor&quot;: &quot;yellow&quot;, &quot;markerColor&quot;: &quot;purple&quot;, &quot;prefix&quot;: &quot;fa&quot;}\n",
       "            );\n",
       "            marker_a22da05e3bef119e973685bb47586948.setIcon(icon_ff0984f3bd41673cbc842d5bdd4af2da);\n",
       "        \n",
       "    \n",
       "            marker_a22da05e3bef119e973685bb47586948.bindTooltip(\n",
       "                `&lt;div&gt;\n",
       "                     3-서교동\n",
       "                 &lt;/div&gt;`,\n",
       "                {&quot;sticky&quot;: true}\n",
       "            );\n",
       "        \n",
       "    \n",
       "            var marker_57e34a14a2184e288311e6cd6e02b985 = L.marker(\n",
       "                [37.4856591, 127.0097616],\n",
       "                {}\n",
       "            ).addTo(map_87ba7dc4e9dbced09d3af9776d93d66c);\n",
       "        \n",
       "    \n",
       "            var icon_8a83492630bd698503ac75416489cb1c = L.AwesomeMarkers.icon(\n",
       "                {&quot;extraClasses&quot;: &quot;fa-rotate-0&quot;, &quot;icon&quot;: &quot;star&quot;, &quot;iconColor&quot;: &quot;yellow&quot;, &quot;markerColor&quot;: &quot;purple&quot;, &quot;prefix&quot;: &quot;fa&quot;}\n",
       "            );\n",
       "            marker_57e34a14a2184e288311e6cd6e02b985.setIcon(icon_8a83492630bd698503ac75416489cb1c);\n",
       "        \n",
       "    \n",
       "            marker_57e34a14a2184e288311e6cd6e02b985.bindTooltip(\n",
       "                `&lt;div&gt;\n",
       "                     4-서초3동\n",
       "                 &lt;/div&gt;`,\n",
       "                {&quot;sticky&quot;: true}\n",
       "            );\n",
       "        \n",
       "    \n",
       "            var marker_b510439685e11f1d98da22a912734a81 = L.marker(\n",
       "                [37.64193, 126.9387277],\n",
       "                {}\n",
       "            ).addTo(map_87ba7dc4e9dbced09d3af9776d93d66c);\n",
       "        \n",
       "    \n",
       "            var icon_be5e415b8af031863acffd2a618c4949 = L.AwesomeMarkers.icon(\n",
       "                {&quot;extraClasses&quot;: &quot;fa-rotate-0&quot;, &quot;icon&quot;: &quot;star&quot;, &quot;iconColor&quot;: &quot;yellow&quot;, &quot;markerColor&quot;: &quot;purple&quot;, &quot;prefix&quot;: &quot;fa&quot;}\n",
       "            );\n",
       "            marker_b510439685e11f1d98da22a912734a81.setIcon(icon_be5e415b8af031863acffd2a618c4949);\n",
       "        \n",
       "    \n",
       "            marker_b510439685e11f1d98da22a912734a81.bindTooltip(\n",
       "                `&lt;div&gt;\n",
       "                     5-진관동\n",
       "                 &lt;/div&gt;`,\n",
       "                {&quot;sticky&quot;: true}\n",
       "            );\n",
       "        \n",
       "&lt;/script&gt;\" style=\"position:absolute;width:100%;height:100%;left:0;top:0;border:none !important;\" allowfullscreen webkitallowfullscreen mozallowfullscreen></iframe></div></div>"
      ],
      "text/plain": [
       "<folium.folium.Map at 0x21a63f9ca30>"
      ]
     },
     "execution_count": 10,
     "metadata": {},
     "output_type": "execute_result"
    }
   ],
   "source": [
    "data, code, where = load_file()\n",
    "\n",
    "tar_dong = input(\"찾으려는 행정동을 입력하세요! => \")\n",
    "tar_code = link_dong(tar_dong)\n",
    "\n",
    "# 하위분석1\n",
    "time_pop(tar_dong, tar_code)\n",
    "\n",
    "# 하위분석2\n",
    "week_pop(tar_dong, tar_code)\n",
    "\n",
    "# 하위분석3\n",
    "sex_pop(tar_dong, tar_code)\n",
    "\n",
    "# 하위분석4\n",
    "diff_pop(tar_dong, tar_code)\n",
    "\n",
    "# 하위분석5\n",
    "topk_map(5)"
   ]
  },
  {
   "cell_type": "markdown",
   "id": "81eeb194",
   "metadata": {},
   "source": [
    "### Self Check"
   ]
  },
  {
   "cell_type": "markdown",
   "id": "a8df286e",
   "metadata": {},
   "source": [
    "#### 1"
   ]
  },
  {
   "cell_type": "code",
   "execution_count": 11,
   "id": "f5a0d901",
   "metadata": {},
   "outputs": [],
   "source": [
    "def dan19(num):\n",
    "    for i in range(num, 20):\n",
    "        print(num, \"x\" , i , \"=\" , num*i)"
   ]
  },
  {
   "cell_type": "code",
   "execution_count": 12,
   "id": "64ebddb2",
   "metadata": {},
   "outputs": [
    {
     "name": "stdout",
     "output_type": "stream",
     "text": [
      "9 x 9 = 81\n",
      "9 x 10 = 90\n",
      "9 x 11 = 99\n",
      "9 x 12 = 108\n",
      "9 x 13 = 117\n",
      "9 x 14 = 126\n",
      "9 x 15 = 135\n",
      "9 x 16 = 144\n",
      "9 x 17 = 153\n",
      "9 x 18 = 162\n",
      "9 x 19 = 171\n"
     ]
    }
   ],
   "source": [
    "dan19(9)"
   ]
  },
  {
   "cell_type": "markdown",
   "id": "17b99df9",
   "metadata": {},
   "source": [
    "#### 2"
   ]
  },
  {
   "cell_type": "code",
   "execution_count": 13,
   "id": "148f8992",
   "metadata": {},
   "outputs": [],
   "source": [
    "def dan19_all(a = 2, b = 20):\n",
    "    for i in range(a, b):\n",
    "        print(i, \"단------\")\n",
    "        \n",
    "        for j in range(1, 20):\n",
    "            print(i, \"x\" , j , \"=\" , i*j)"
   ]
  },
  {
   "cell_type": "code",
   "execution_count": 14,
   "id": "7b0d4442",
   "metadata": {},
   "outputs": [
    {
     "name": "stdout",
     "output_type": "stream",
     "text": [
      "3 단------\n",
      "3 x 1 = 3\n",
      "3 x 2 = 6\n",
      "3 x 3 = 9\n",
      "3 x 4 = 12\n",
      "3 x 5 = 15\n",
      "3 x 6 = 18\n",
      "3 x 7 = 21\n",
      "3 x 8 = 24\n",
      "3 x 9 = 27\n",
      "3 x 10 = 30\n",
      "3 x 11 = 33\n",
      "3 x 12 = 36\n",
      "3 x 13 = 39\n",
      "3 x 14 = 42\n",
      "3 x 15 = 45\n",
      "3 x 16 = 48\n",
      "3 x 17 = 51\n",
      "3 x 18 = 54\n",
      "3 x 19 = 57\n",
      "4 단------\n",
      "4 x 1 = 4\n",
      "4 x 2 = 8\n",
      "4 x 3 = 12\n",
      "4 x 4 = 16\n",
      "4 x 5 = 20\n",
      "4 x 6 = 24\n",
      "4 x 7 = 28\n",
      "4 x 8 = 32\n",
      "4 x 9 = 36\n",
      "4 x 10 = 40\n",
      "4 x 11 = 44\n",
      "4 x 12 = 48\n",
      "4 x 13 = 52\n",
      "4 x 14 = 56\n",
      "4 x 15 = 60\n",
      "4 x 16 = 64\n",
      "4 x 17 = 68\n",
      "4 x 18 = 72\n",
      "4 x 19 = 76\n",
      "5 단------\n",
      "5 x 1 = 5\n",
      "5 x 2 = 10\n",
      "5 x 3 = 15\n",
      "5 x 4 = 20\n",
      "5 x 5 = 25\n",
      "5 x 6 = 30\n",
      "5 x 7 = 35\n",
      "5 x 8 = 40\n",
      "5 x 9 = 45\n",
      "5 x 10 = 50\n",
      "5 x 11 = 55\n",
      "5 x 12 = 60\n",
      "5 x 13 = 65\n",
      "5 x 14 = 70\n",
      "5 x 15 = 75\n",
      "5 x 16 = 80\n",
      "5 x 17 = 85\n",
      "5 x 18 = 90\n",
      "5 x 19 = 95\n",
      "6 단------\n",
      "6 x 1 = 6\n",
      "6 x 2 = 12\n",
      "6 x 3 = 18\n",
      "6 x 4 = 24\n",
      "6 x 5 = 30\n",
      "6 x 6 = 36\n",
      "6 x 7 = 42\n",
      "6 x 8 = 48\n",
      "6 x 9 = 54\n",
      "6 x 10 = 60\n",
      "6 x 11 = 66\n",
      "6 x 12 = 72\n",
      "6 x 13 = 78\n",
      "6 x 14 = 84\n",
      "6 x 15 = 90\n",
      "6 x 16 = 96\n",
      "6 x 17 = 102\n",
      "6 x 18 = 108\n",
      "6 x 19 = 114\n",
      "7 단------\n",
      "7 x 1 = 7\n",
      "7 x 2 = 14\n",
      "7 x 3 = 21\n",
      "7 x 4 = 28\n",
      "7 x 5 = 35\n",
      "7 x 6 = 42\n",
      "7 x 7 = 49\n",
      "7 x 8 = 56\n",
      "7 x 9 = 63\n",
      "7 x 10 = 70\n",
      "7 x 11 = 77\n",
      "7 x 12 = 84\n",
      "7 x 13 = 91\n",
      "7 x 14 = 98\n",
      "7 x 15 = 105\n",
      "7 x 16 = 112\n",
      "7 x 17 = 119\n",
      "7 x 18 = 126\n",
      "7 x 19 = 133\n",
      "8 단------\n",
      "8 x 1 = 8\n",
      "8 x 2 = 16\n",
      "8 x 3 = 24\n",
      "8 x 4 = 32\n",
      "8 x 5 = 40\n",
      "8 x 6 = 48\n",
      "8 x 7 = 56\n",
      "8 x 8 = 64\n",
      "8 x 9 = 72\n",
      "8 x 10 = 80\n",
      "8 x 11 = 88\n",
      "8 x 12 = 96\n",
      "8 x 13 = 104\n",
      "8 x 14 = 112\n",
      "8 x 15 = 120\n",
      "8 x 16 = 128\n",
      "8 x 17 = 136\n",
      "8 x 18 = 144\n",
      "8 x 19 = 152\n"
     ]
    }
   ],
   "source": [
    "dan19_all(3, 9)"
   ]
  },
  {
   "cell_type": "code",
   "execution_count": 15,
   "id": "72329a8e",
   "metadata": {},
   "outputs": [],
   "source": [
    "def cal_grade(score):\n",
    "    \n",
    "    if score >= 80:\n",
    "        return \"A\"\n",
    "    elif score >= 40:\n",
    "        return \"B\"\n",
    "    else :\n",
    "        return \"C\""
   ]
  },
  {
   "cell_type": "markdown",
   "id": "f4fe6546",
   "metadata": {},
   "source": [
    "#### 3"
   ]
  },
  {
   "cell_type": "code",
   "execution_count": null,
   "id": "f19eac56",
   "metadata": {},
   "outputs": [],
   "source": [
    "x = int(input(\"기말 점수 : \"))\n",
    "print(\"등급 :\", cal_grade(x))"
   ]
  },
  {
   "cell_type": "code",
   "execution_count": null,
   "id": "af7ee66a",
   "metadata": {},
   "outputs": [],
   "source": []
  }
 ],
 "metadata": {
  "kernelspec": {
   "display_name": "Python 3 (ipykernel)",
   "language": "python",
   "name": "python3"
  },
  "language_info": {
   "codemirror_mode": {
    "name": "ipython",
    "version": 3
   },
   "file_extension": ".py",
   "mimetype": "text/x-python",
   "name": "python",
   "nbconvert_exporter": "python",
   "pygments_lexer": "ipython3",
   "version": "3.9.12"
  }
 },
 "nbformat": 4,
 "nbformat_minor": 5
}
