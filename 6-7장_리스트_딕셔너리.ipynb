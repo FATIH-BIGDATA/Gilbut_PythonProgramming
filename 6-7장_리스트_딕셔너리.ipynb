{
 "cells": [
  {
   "cell_type": "markdown",
   "id": "1abbc8ed",
   "metadata": {},
   "source": [
    "# 6장 리스트\n",
    "## 6.1.4 요소 추가 및 삭제"
   ]
  },
  {
   "cell_type": "code",
   "execution_count": 1,
   "id": "13ee8912",
   "metadata": {},
   "outputs": [
    {
     "name": "stdout",
     "output_type": "stream",
     "text": [
      "input what you have to do!\n",
      "python\n",
      "['python']\n",
      "c++\n",
      "['python', 'c++']\n",
      "java\n",
      "['python', 'c++', 'java']\n"
     ]
    }
   ],
   "source": [
    "# append - 추가 \n",
    "\n",
    "to_do_list = []\n",
    "\n",
    "print(\"input what you have to do!\")\n",
    "\n",
    "for a in range(3):\n",
    "    to_do_list.append(input())\n",
    "    print(to_do_list)"
   ]
  },
  {
   "cell_type": "code",
   "execution_count": 10,
   "id": "c1b600b0",
   "metadata": {},
   "outputs": [
    {
     "name": "stdout",
     "output_type": "stream",
     "text": [
      "월드컵에 진출하지 못한 국가를 제외하시오.China\n",
      "['Korea', 'Japan', 'UK', 'USA', 'France', 'Germany', 'Brazil']\n"
     ]
    }
   ],
   "source": [
    "# remove - 삭제\n",
    "\n",
    "countries = [\"Korea\", \"China\", \"Japan\", \"UK\", \"USA\", \"France\", \"Germany\", \"Brazil\"]\n",
    "\n",
    "countries.remove(input(\"월드컵에 진출하지 못한 국가를 제외하시오.\"))\n",
    "\n",
    "print(countries)"
   ]
  },
  {
   "cell_type": "code",
   "execution_count": 11,
   "id": "6da0edbc",
   "metadata": {},
   "outputs": [
    {
     "name": "stdout",
     "output_type": "stream",
     "text": [
      "['Korea', 'Japan', 'UK', 'USA', 'France', 'Germany', 'Brazil']\n"
     ]
    }
   ],
   "source": [
    "# del 리스트명[인덱스]도 사용 가능\n",
    "\n",
    "countries.append(\"China\") # 가장 뒤에 추가됨\n",
    "del countries[-1]\n",
    "print(countries)"
   ]
  },
  {
   "cell_type": "markdown",
   "id": "72f37325",
   "metadata": {},
   "source": [
    "## 6.1.5 필요요소 꺼내기\n",
    "### split()"
   ]
  },
  {
   "cell_type": "code",
   "execution_count": 15,
   "id": "762a932e",
   "metadata": {},
   "outputs": [
    {
     "name": "stdout",
     "output_type": "stream",
     "text": [
      "['2021', 'KBO', '우승', 'kt', 'Wiz']\n"
     ]
    }
   ],
   "source": [
    "b = \"2021 KBO 우승 kt Wiz\"\n",
    "\n",
    "# split에 아무것도 넣지 않으면 공백을 기준으로 분리\n",
    "print(b.split())"
   ]
  },
  {
   "cell_type": "markdown",
   "id": "12409f95",
   "metadata": {},
   "source": [
    "## 6.2.3 리스트로 간단한 프로그램 작성"
   ]
  },
  {
   "cell_type": "code",
   "execution_count": 18,
   "id": "2f54e5cb",
   "metadata": {},
   "outputs": [
    {
     "name": "stdout",
     "output_type": "stream",
     "text": [
      "야! 2호선 역 맞춰봐!\n",
      "종로\n",
      "거긴 초록색 라인 아니다\n"
     ]
    }
   ],
   "source": [
    "# 데이터 출처 : \n",
    "# https://github.com/teacher-jiejie/Lets-get-it-Python-Book-Code/blob/main/6%EC%9E%A5_%EB%A6%AC%EC%8A%A4%ED%8A%B8%20:%20%EC%97%AC%EB%9F%AC_%EB%8D%B0%EC%9D%B4%ED%84%B0%EB%A5%BC_%ED%95%9C_%EB%B2%88%EC%97%90_%EB%AC%B6%EC%96%B4_%ED%91%9C%ED%98%84%ED%95%98%EA%B8%B0.ipynb\n",
    "\n",
    "line2 = ['성수','뚝섬','한양대', '왕십리' , '상왕십리', '신당', '동대문역사문화공원', \n",
    "         '을지로4가', '을지로3가', '을지로입구', '시청', '충정로', '아현', '이대', \n",
    "         '신촌', '홍대입구', '합정', '당산', '영등포구청', '문래', '신도림', '대림', \n",
    "         '구로디지털단지', '신대방', '신림', '봉천', '서울대입구', '낙성대', '사당', \n",
    "         '방배', '서초', '교대', '강남', '역삼', '선릉', '삼성', '종합운동장', \n",
    "         '잠실새내', '잠실', '잠실나루', '강변', '구의', '건대입구']\n",
    "\n",
    "print(\"야! 2호선 역 맞춰봐!\")\n",
    "\n",
    "for c in range(3):\n",
    "    if input() not in line2:\n",
    "        print(\"거긴 초록색 라인 아니다\")\n",
    "        break   "
   ]
  },
  {
   "cell_type": "markdown",
   "id": "ffbc5923",
   "metadata": {},
   "source": [
    "## 6.3.3 이차원 리스트로 프로그램 작성\n",
    "### 중첩 제어구조 활용"
   ]
  },
  {
   "cell_type": "code",
   "execution_count": 19,
   "id": "2a4927f5",
   "metadata": {},
   "outputs": [],
   "source": [
    "olympic =[[1,'미국',46,37,38,121],\n",
    "          [2,'영국',27,23,17,67],\n",
    "          [3,'중국',26,18,26,70],\n",
    "          [4,'러시아',19,18,19,56],\n",
    "          [5,'독일',17,10,15,42],\n",
    "          [6,'일본',12,8,21,41],\n",
    "          [7,'프랑스',10,18,14,42],\n",
    "          [8,'대한민국',9,3,9,21]]"
   ]
  },
  {
   "cell_type": "code",
   "execution_count": 35,
   "id": "d7729407",
   "metadata": {},
   "outputs": [
    {
     "name": "stdout",
     "output_type": "stream",
     "text": [
      "동메달이 은메달보다 더 많은 국가\n",
      "미국\n",
      "중국\n",
      "러시아\n",
      "독일\n",
      "일본\n",
      "대한민국\n"
     ]
    }
   ],
   "source": [
    "print(\"동메달이 은메달보다 더 많은 국가\")\n",
    "\n",
    "for d in olympic:\n",
    "    if d[-2]>d[3]:\n",
    "        print(d[1])"
   ]
  },
  {
   "cell_type": "markdown",
   "id": "f0ef1389",
   "metadata": {},
   "source": [
    "## Self Check\n",
    "### 1번 문제"
   ]
  },
  {
   "cell_type": "code",
   "execution_count": 10,
   "id": "eead9e2d",
   "metadata": {},
   "outputs": [],
   "source": [
    "import random as rd\n",
    "\n",
    "book_name = ['삼국지', '수호지', '데미안', '서유기', '성문종합영어']\n",
    "book_price = []"
   ]
  },
  {
   "cell_type": "markdown",
   "id": "c601c8dd",
   "metadata": {},
   "source": [
    "### 1-1) book_price = 15000~25000의 랜덤 정수/book_name, book_price 출력 "
   ]
  },
  {
   "cell_type": "code",
   "execution_count": 11,
   "id": "b04a9d8b",
   "metadata": {},
   "outputs": [
    {
     "name": "stdout",
     "output_type": "stream",
     "text": [
      "['삼국지', '수호지', '데미안', '서유기', '성문종합영어'] [23770, 23605, 24947, 22946, 23411]\n"
     ]
    }
   ],
   "source": [
    "for i in range(len(book_name)):\n",
    "    price = rd.randint(15000, 25000)\n",
    "    book_price.append(price)\n",
    "\n",
    "print(book_name, book_price)"
   ]
  },
  {
   "cell_type": "markdown",
   "id": "3884aca5",
   "metadata": {},
   "source": [
    "### 1-2) 가장 저렴한 도서 (문제 변형)"
   ]
  },
  {
   "cell_type": "code",
   "execution_count": 12,
   "id": "aed98e27",
   "metadata": {},
   "outputs": [
    {
     "name": "stdout",
     "output_type": "stream",
     "text": [
      "가장 싼 책은 서유기\n"
     ]
    }
   ],
   "source": [
    "cheap = book_price.index(min(book_price))\n",
    "print(\"가장 싼 책은\", book_name[cheap])"
   ]
  },
  {
   "cell_type": "markdown",
   "id": "86cd65e2",
   "metadata": {},
   "source": [
    "### 2번 문제"
   ]
  },
  {
   "cell_type": "code",
   "execution_count": 13,
   "id": "a7866961",
   "metadata": {},
   "outputs": [],
   "source": [
    "ranking = [[1, '라이언', 956412, 564553],\n",
    "           [2, '니니즈', 861832, 927175],\n",
    "           [3, '어피치', 796354, 593175],\n",
    "           [4, '프로도', 534840, 864326],\n",
    "           [5, '네오', 387896, 648367]]"
   ]
  },
  {
   "cell_type": "markdown",
   "id": "f6b22246",
   "metadata": {},
   "source": [
    "### 2-1) 참가자 순위 - 이름을 쌍으로 도출"
   ]
  },
  {
   "cell_type": "code",
   "execution_count": 17,
   "id": "4dcaa393",
   "metadata": {},
   "outputs": [
    {
     "name": "stdout",
     "output_type": "stream",
     "text": [
      "1 라이언\n",
      "2 니니즈\n",
      "3 어피치\n",
      "4 프로도\n",
      "5 네오\n"
     ]
    }
   ],
   "source": [
    "for i in ranking:\n",
    "    print(i[0], i[1])"
   ]
  },
  {
   "cell_type": "markdown",
   "id": "88543e01",
   "metadata": {},
   "source": [
    "### 2-2) 이번주 70만표 이상 득표한 사람 이름과 득표수 출력 (변형) "
   ]
  },
  {
   "cell_type": "code",
   "execution_count": 21,
   "id": "b68b9a03",
   "metadata": {},
   "outputs": [
    {
     "name": "stdout",
     "output_type": "stream",
     "text": [
      "라이언 - 956412\n",
      "니니즈 - 861832\n",
      "어피치 - 796354\n"
     ]
    }
   ],
   "source": [
    "for i in ranking:\n",
    "    if i[-2] > 700000:\n",
    "        print(i[1],\"-\",i[-2])"
   ]
  },
  {
   "cell_type": "markdown",
   "id": "08f54257",
   "metadata": {},
   "source": [
    "### 2-3) 지난주보다 득표수가 떨어진 참가자와 그 차이"
   ]
  },
  {
   "cell_type": "code",
   "execution_count": 22,
   "id": "c09299d8",
   "metadata": {},
   "outputs": [
    {
     "name": "stdout",
     "output_type": "stream",
     "text": [
      "니니즈 - 65343\n",
      "프로도 - 329486\n",
      "네오 - 260471\n"
     ]
    }
   ],
   "source": [
    "for i in ranking:\n",
    "    if i[-2] < i[-1]:\n",
    "        print(i[1],\"-\",abs(i[-2]-i[-1]))"
   ]
  },
  {
   "cell_type": "markdown",
   "id": "0669b254",
   "metadata": {},
   "source": [
    "### 2-4) 2주에 걸쳐 한 번이라도 90만을 넘은 참가자?"
   ]
  },
  {
   "cell_type": "code",
   "execution_count": 25,
   "id": "30c1f64c",
   "metadata": {},
   "outputs": [
    {
     "name": "stdout",
     "output_type": "stream",
     "text": [
      "라이언\n",
      "니니즈\n"
     ]
    }
   ],
   "source": [
    "for i in ranking:\n",
    "    if i[-2] >= 900000 or i[-1] >= 900000:\n",
    "        print(i[1])"
   ]
  },
  {
   "cell_type": "markdown",
   "id": "e9ab0851",
   "metadata": {},
   "source": [
    "# 7. 딕셔너리\n",
    "## 7.1.4 명령어"
   ]
  },
  {
   "cell_type": "code",
   "execution_count": 26,
   "id": "ec214622",
   "metadata": {},
   "outputs": [
    {
     "data": {
      "text/plain": [
       "dict_keys(['과자', '아이스크림', '휴지', '고기', '우유'])"
      ]
     },
     "execution_count": 26,
     "metadata": {},
     "output_type": "execute_result"
    }
   ],
   "source": [
    "mart ={'과자':1500, '아이스크림':1700, '휴지':4800, '고기':10500, '우유':2600}\n",
    "\n",
    "mart.keys()"
   ]
  },
  {
   "cell_type": "code",
   "execution_count": 28,
   "id": "915f150c",
   "metadata": {},
   "outputs": [
    {
     "data": {
      "text/plain": [
       "dict_values([1500, 1700, 4800, 10500, 2600])"
      ]
     },
     "execution_count": 28,
     "metadata": {},
     "output_type": "execute_result"
    }
   ],
   "source": [
    "mart.values()"
   ]
  },
  {
   "cell_type": "code",
   "execution_count": 30,
   "id": "3d2ad7a8",
   "metadata": {},
   "outputs": [
    {
     "data": {
      "text/plain": [
       "dict_items([('과자', 1500), ('아이스크림', 1700), ('휴지', 4800), ('고기', 10500), ('우유', 2600)])"
      ]
     },
     "execution_count": 30,
     "metadata": {},
     "output_type": "execute_result"
    }
   ],
   "source": [
    "mart.items()"
   ]
  },
  {
   "cell_type": "code",
   "execution_count": 32,
   "id": "72f1b8fc",
   "metadata": {},
   "outputs": [
    {
     "name": "stdout",
     "output_type": "stream",
     "text": [
      "[('과자', 1500), ('아이스크림', 1700), ('우유', 2600), ('휴지', 4800), ('고기', 10500)]\n"
     ]
    }
   ],
   "source": [
    "# 소괄호 안의 값을 기준으로 정렬할 때 : itemgetter()\n",
    "\n",
    "import operator as op\n",
    "\n",
    "print(sorted(mart.items(), key = op.itemgetter(1)))"
   ]
  },
  {
   "cell_type": "markdown",
   "id": "cf7ae4ff",
   "metadata": {},
   "source": [
    "## 7.2.2 반복문으로 딕셔너리 다루기"
   ]
  },
  {
   "cell_type": "code",
   "execution_count": 33,
   "id": "4de66672",
   "metadata": {},
   "outputs": [
    {
     "name": "stdout",
     "output_type": "stream",
     "text": [
      "도균\n",
      "하인\n",
      "시인\n",
      "자유\n",
      "준원\n"
     ]
    }
   ],
   "source": [
    "midterm = {'도균':43, '하인':82, '시인':76, '자유':61, '준원':94}\n",
    "\n",
    "for k in midterm.keys() : \n",
    "    print(k)"
   ]
  },
  {
   "cell_type": "code",
   "execution_count": 35,
   "id": "157629b8",
   "metadata": {},
   "outputs": [
    {
     "name": "stdout",
     "output_type": "stream",
     "text": [
      "도균 하인 시인 자유 준원 "
     ]
    }
   ],
   "source": [
    "for k in midterm.keys() : \n",
    "    print(k, end = ' ')"
   ]
  },
  {
   "cell_type": "markdown",
   "id": "88a5773c",
   "metadata": {},
   "source": [
    "## 7.2.4 딕셔너리로 프로그램 작성"
   ]
  },
  {
   "cell_type": "code",
   "execution_count": 36,
   "id": "aca52139",
   "metadata": {},
   "outputs": [],
   "source": [
    "# 빈도순으로 단어장 만들기\n",
    "\n",
    "alibaba = \"in a town of persia lived two brothers , sons of a poor man , one named cassim , the other alibaba . cassim , the elder , married a wife with a considerable fortune , and lived at his ease , but the wife of alibaba was as poor as himself . they dwelt in a mean cottage in the suburbs , and he maintained his family by cutting wood . alibaba was in the forest preparing to load his asses with the faggots he had cut , when he saw a troop of horsemen approaching . he hastily climbed a large thick tree , and hid himself among the branches . alibaba counted forty of them , each took a loaded portmanteau from his horse , and turning to the rock , said , open , sesame immediately a door opened , the robbers passed in , when the door shut of itself . in a short time the door opened again , and the robbers came out , who said , shut , sesame . the door instantly closed . alibaba ventured down , and approaching the rock , said , open , sesame . immediately the door flew open . he brought his asses , and took as many bags of gold coin as they could carry . alibaba told his brother the secret of the cave . cassim rose early next morning , and set out with ten mules loaded with great chests . he found the rock , and having said , open sesame , gained admission , where he found more treasures than he expected , which made him forget the word that caused the door to open . presently he heard the sound of horses feet , which he concluded to be the robbers , who instantly put him to death . alibaba drove to the forest , and on entering the cave , he found the body of his brother cut into quarters . he took the quarters , and put them upon one of his asses , and delivered the body to cassim wife . morgiana , a female slave in his brother house , was sent early next morning to a poor cobbler , and gave him two pieces of gold to go with her blindfolded , taking him into the room where the body was lying , bade him sew the mangled limbs together . mustapha obeyed , having received two pieces of gold , and was led blindfolded the same way back . cassim was buried with all due solemnity , and alibaba removed to the house of his deceased brother , of which he took possession . the captain of the troop resolved to find out who possessed the secret of entrance into his cave , and disguising himself , went to the city early one morning , when , accosting the cobbler , he was told of the job he had , who for six pieces of gold , allowed himself to be blindfolded , and traced out the house of cassim , which the robber marked with chalk . buying nineteen mules and thirty-nine large jars , one full of oil , and the rest empty , the captain put a man into each jar , properly armed , and then proceeded to the street where alibaba dwelt . sir , said he , i have brought this oil a great way to sell , as i am quite a stranger , will you let me put my mules into your courtyard , and direct me where i may lodge to-night ? alibaba welcomed the pretended oil merchant , offered him a bed in his own house , and invited his guest in to supper . morgiana , sitting up later that night than usual , her lamp went out . she took her oil pot in her hand , and approaching the first jar , the robber within said is it time , captain ? she replied , no , not yet . so she ran back to the kitchen , and brought out a large kettle , which she filled with oil , set it on a great wood fire , and as soon as it boiled , she went and poured into the jars sufficient of the boiling oil to kill every man within . the captain of the robbers arose to assemble his men . coming to the first jar , he felt the steam of the boiled oil ! he ran hastily to the rest , and found every one of his troop put to death . full of rage , he forced the lock of the door , and made his escape over the walls . without letting any one into the secret , alibaba and morgiana the next night buried the thirty-nine thieves at the bottom of the garden . the captain at length , however , determined to adopt a new scheme for the destruction of alibaba . he removed all the valuable merchandise from the cave to the city , and took a shop exactly opposite to alibaba house . alibaba son went every day to his shop . the pretended cogia hassan soon appeared to be very fond of alibaba son , offered him many presents , and often detained him to dinner . alibaba thought it was necessary to make some return to these civilities , and he invited cogia hassan to supper , morgiana carried in the first dish herself . the moment she looked at cogia hassan , she knew it was the pretended oil merchant . she sent the other slaves into the kitchen , and waited at table herself , and while cogia hassan was drinking , she perceived he had a dagger hid under his coat . she went away , and dressed herself in the habit of a dancing-girl . as soon as she appeared at the parlor door , her master ordered her to come in to entertain his guest with some of her best dancing . morgiana danced several times before the assembled company , until , coming opposite cogia hassan , she drew a dagger from her girdle and plunged it into the robber heart . as a reward for her faithfulness , alibaba gave her in marriage to his son , and at his death put them in possession of his immense wealth .\"\n",
    "\n",
    "vocab = {}\n",
    "word_list = alibaba.split()"
   ]
  },
  {
   "cell_type": "code",
   "execution_count": 37,
   "id": "fc8ff42a",
   "metadata": {},
   "outputs": [
    {
     "name": "stdout",
     "output_type": "stream",
     "text": [
      "{'in': 15, 'a': 24, 'town': 1, 'of': 33, 'persia': 1, 'lived': 2, 'two': 3, 'brothers': 1, ',': 103, 'sons': 1, 'poor': 3, 'man': 3, 'one': 6, 'named': 1, 'cassim': 6, 'the': 78, 'other': 2, 'alibaba': 17, '.': 41, 'elder': 1, 'married': 1, 'wife': 3, 'with': 9, 'considerable': 1, 'fortune': 1, 'and': 37, 'at': 7, 'his': 22, 'ease': 1, 'but': 1, 'was': 10, 'as': 10, 'himself': 4, 'they': 2, 'dwelt': 2, 'mean': 1, 'cottage': 1, 'suburbs': 1, 'he': 22, 'maintained': 1, 'family': 1, 'by': 1, 'cutting': 1, 'wood': 2, 'forest': 2, 'preparing': 1, 'to': 34, 'load': 1, 'asses': 3, 'faggots': 1, 'had': 3, 'cut': 2, 'when': 3, 'saw': 1, 'troop': 3, 'horsemen': 1, 'approaching': 3, 'hastily': 2, 'climbed': 1, 'large': 3, 'thick': 1, 'tree': 1, 'hid': 2, 'among': 1, 'branches': 1, 'counted': 1, 'forty': 1, 'them': 3, 'each': 2, 'took': 6, 'loaded': 2, 'portmanteau': 1, 'from': 3, 'horse': 1, 'turning': 1, 'rock': 3, 'said': 6, 'open': 5, 'sesame': 4, 'immediately': 2, 'door': 8, 'opened': 2, 'robbers': 4, 'passed': 1, 'shut': 2, 'itself': 1, 'short': 1, 'time': 2, 'again': 1, 'came': 1, 'out': 6, 'who': 4, 'instantly': 2, 'closed': 1, 'ventured': 1, 'down': 1, 'flew': 1, 'brought': 3, 'many': 2, 'bags': 1, 'gold': 4, 'coin': 1, 'could': 1, 'carry': 1, 'told': 2, 'brother': 4, 'secret': 3, 'cave': 4, 'rose': 1, 'early': 3, 'next': 3, 'morning': 3, 'set': 2, 'ten': 1, 'mules': 3, 'great': 3, 'chests': 1, 'found': 4, 'having': 2, 'gained': 1, 'admission': 1, 'where': 4, 'more': 1, 'treasures': 1, 'than': 2, 'expected': 1, 'which': 5, 'made': 2, 'him': 8, 'forget': 1, 'word': 1, 'that': 2, 'caused': 1, 'presently': 1, 'heard': 1, 'sound': 1, 'horses': 1, 'feet': 1, 'concluded': 1, 'be': 3, 'put': 6, 'death': 3, 'drove': 1, 'on': 2, 'entering': 1, 'body': 3, 'into': 9, 'quarters': 2, 'upon': 1, 'delivered': 1, 'morgiana': 5, 'female': 1, 'slave': 1, 'house': 5, 'sent': 2, 'cobbler': 2, 'gave': 2, 'pieces': 3, 'go': 1, 'her': 10, 'blindfolded': 3, 'taking': 1, 'room': 1, 'lying': 1, 'bade': 1, 'sew': 1, 'mangled': 1, 'limbs': 1, 'together': 1, 'mustapha': 1, 'obeyed': 1, 'received': 1, 'led': 1, 'same': 1, 'way': 2, 'back': 2, 'buried': 2, 'all': 2, 'due': 1, 'solemnity': 1, 'removed': 2, 'deceased': 1, 'possession': 2, 'captain': 5, 'resolved': 1, 'find': 1, 'possessed': 1, 'entrance': 1, 'disguising': 1, 'went': 5, 'city': 2, 'accosting': 1, 'job': 1, 'for': 3, 'six': 1, 'allowed': 1, 'traced': 1, 'robber': 3, 'marked': 1, 'chalk': 1, 'buying': 1, 'nineteen': 1, 'thirty-nine': 2, 'jars': 2, 'full': 2, 'oil': 8, 'rest': 2, 'empty': 1, 'jar': 3, 'properly': 1, 'armed': 1, 'then': 1, 'proceeded': 1, 'street': 1, 'sir': 1, 'i': 3, 'have': 1, 'this': 1, 'sell': 1, 'am': 1, 'quite': 1, 'stranger': 1, 'will': 1, 'you': 1, 'let': 1, 'me': 2, 'my': 1, 'your': 1, 'courtyard': 1, 'direct': 1, 'may': 1, 'lodge': 1, 'to-night': 1, '?': 2, 'welcomed': 1, 'pretended': 3, 'merchant': 2, 'offered': 2, 'bed': 1, 'own': 1, 'invited': 2, 'guest': 2, 'supper': 2, 'sitting': 1, 'up': 1, 'later': 1, 'night': 2, 'usual': 1, 'lamp': 1, 'she': 12, 'pot': 1, 'hand': 1, 'first': 3, 'within': 2, 'is': 1, 'it': 6, 'replied': 1, 'no': 1, 'not': 1, 'yet': 1, 'so': 1, 'ran': 2, 'kitchen': 2, 'kettle': 1, 'filled': 1, 'fire': 1, 'soon': 3, 'boiled': 2, 'poured': 1, 'sufficient': 1, 'boiling': 1, 'kill': 1, 'every': 3, 'arose': 1, 'assemble': 1, 'men': 1, 'coming': 2, 'felt': 1, 'steam': 1, '!': 1, 'rage': 1, 'forced': 1, 'lock': 1, 'escape': 1, 'over': 1, 'walls': 1, 'without': 1, 'letting': 1, 'any': 1, 'thieves': 1, 'bottom': 1, 'garden': 1, 'length': 1, 'however': 1, 'determined': 1, 'adopt': 1, 'new': 1, 'scheme': 1, 'destruction': 1, 'valuable': 1, 'merchandise': 1, 'shop': 2, 'exactly': 1, 'opposite': 2, 'son': 3, 'day': 1, 'cogia': 5, 'hassan': 5, 'appeared': 2, 'very': 1, 'fond': 1, 'presents': 1, 'often': 1, 'detained': 1, 'dinner': 1, 'thought': 1, 'necessary': 1, 'make': 1, 'some': 2, 'return': 1, 'these': 1, 'civilities': 1, 'carried': 1, 'dish': 1, 'herself': 3, 'moment': 1, 'looked': 1, 'knew': 1, 'slaves': 1, 'waited': 1, 'table': 1, 'while': 1, 'drinking': 1, 'perceived': 1, 'dagger': 2, 'under': 1, 'coat': 1, 'away': 1, 'dressed': 1, 'habit': 1, 'dancing-girl': 1, 'parlor': 1, 'master': 1, 'ordered': 1, 'come': 1, 'entertain': 1, 'best': 1, 'dancing': 1, 'danced': 1, 'several': 1, 'times': 1, 'before': 1, 'assembled': 1, 'company': 1, 'until': 1, 'drew': 1, 'girdle': 1, 'plunged': 1, 'heart': 1, 'reward': 1, 'faithfulness': 1, 'marriage': 1, 'immense': 1, 'wealth': 1}\n"
     ]
    }
   ],
   "source": [
    "for w in word_list : \n",
    "    if w not in vocab : \n",
    "        vocab[w] = 1\n",
    "    else : \n",
    "        vocab[w] += 1\n",
    "print(vocab)"
   ]
  },
  {
   "cell_type": "code",
   "execution_count": 38,
   "id": "9da1fa48",
   "metadata": {},
   "outputs": [],
   "source": [
    "# 의미 없는 단어 제거하기\n",
    "\n",
    "meaningless = ['.', ',', '!', '?', 'the', 'he', 'and', 'to', 'a', 'of', \n",
    "               'was', 'in', 'had', 'for', 'it', 'that', 'but', 'as', 'with', \n",
    "               'at', 'i', 'into', 'be', 'this', 'me', 'from', 'then', 'him', \n",
    "               'his', 'her', 'she','they', 'them', 'you']\n",
    "               \n",
    "for word in meaningless : \n",
    "    del vocab[word]"
   ]
  },
  {
   "cell_type": "code",
   "execution_count": 39,
   "id": "68c499c4",
   "metadata": {},
   "outputs": [
    {
     "name": "stdout",
     "output_type": "stream",
     "text": [
      "[('alibaba', 17), ('door', 8), ('oil', 8), ('one', 6), ('cassim', 6), ('took', 6), ('said', 6), ('out', 6), ('put', 6), ('open', 5), ('which', 5), ('morgiana', 5), ('house', 5), ('captain', 5), ('went', 5), ('cogia', 5), ('hassan', 5), ('himself', 4), ('sesame', 4), ('robbers', 4), ('who', 4), ('gold', 4), ('brother', 4), ('cave', 4), ('found', 4), ('where', 4), ('two', 3), ('poor', 3), ('man', 3), ('wife', 3), ('asses', 3), ('when', 3), ('troop', 3), ('approaching', 3), ('large', 3), ('rock', 3), ('brought', 3), ('secret', 3), ('early', 3), ('next', 3), ('morning', 3), ('mules', 3), ('great', 3), ('death', 3), ('body', 3), ('pieces', 3), ('blindfolded', 3), ('robber', 3), ('jar', 3), ('pretended', 3), ('first', 3), ('soon', 3), ('every', 3), ('son', 3), ('herself', 3), ('lived', 2), ('other', 2), ('dwelt', 2), ('wood', 2), ('forest', 2), ('cut', 2), ('hastily', 2), ('hid', 2), ('each', 2), ('loaded', 2), ('immediately', 2), ('opened', 2), ('shut', 2), ('time', 2), ('instantly', 2), ('many', 2), ('told', 2), ('set', 2), ('having', 2), ('than', 2), ('made', 2), ('on', 2), ('quarters', 2), ('sent', 2), ('cobbler', 2), ('gave', 2), ('way', 2), ('back', 2), ('buried', 2), ('all', 2), ('removed', 2), ('possession', 2), ('city', 2), ('thirty-nine', 2), ('jars', 2), ('full', 2), ('rest', 2), ('merchant', 2), ('offered', 2), ('invited', 2), ('guest', 2), ('supper', 2), ('night', 2), ('within', 2), ('ran', 2), ('kitchen', 2), ('boiled', 2), ('coming', 2), ('shop', 2), ('opposite', 2), ('appeared', 2), ('some', 2), ('dagger', 2), ('town', 1), ('persia', 1), ('brothers', 1), ('sons', 1), ('named', 1), ('elder', 1), ('married', 1), ('considerable', 1), ('fortune', 1), ('ease', 1), ('mean', 1), ('cottage', 1), ('suburbs', 1), ('maintained', 1), ('family', 1), ('by', 1), ('cutting', 1), ('preparing', 1), ('load', 1), ('faggots', 1), ('saw', 1), ('horsemen', 1), ('climbed', 1), ('thick', 1), ('tree', 1), ('among', 1), ('branches', 1), ('counted', 1), ('forty', 1), ('portmanteau', 1), ('horse', 1), ('turning', 1), ('passed', 1), ('itself', 1), ('short', 1), ('again', 1), ('came', 1), ('closed', 1), ('ventured', 1), ('down', 1), ('flew', 1), ('bags', 1), ('coin', 1), ('could', 1), ('carry', 1), ('rose', 1), ('ten', 1), ('chests', 1), ('gained', 1), ('admission', 1), ('more', 1), ('treasures', 1), ('expected', 1), ('forget', 1), ('word', 1), ('caused', 1), ('presently', 1), ('heard', 1), ('sound', 1), ('horses', 1), ('feet', 1), ('concluded', 1), ('drove', 1), ('entering', 1), ('upon', 1), ('delivered', 1), ('female', 1), ('slave', 1), ('go', 1), ('taking', 1), ('room', 1), ('lying', 1), ('bade', 1), ('sew', 1), ('mangled', 1), ('limbs', 1), ('together', 1), ('mustapha', 1), ('obeyed', 1), ('received', 1), ('led', 1), ('same', 1), ('due', 1), ('solemnity', 1), ('deceased', 1), ('resolved', 1), ('find', 1), ('possessed', 1), ('entrance', 1), ('disguising', 1), ('accosting', 1), ('job', 1), ('six', 1), ('allowed', 1), ('traced', 1), ('marked', 1), ('chalk', 1), ('buying', 1), ('nineteen', 1), ('empty', 1), ('properly', 1), ('armed', 1), ('proceeded', 1), ('street', 1), ('sir', 1), ('have', 1), ('sell', 1), ('am', 1), ('quite', 1), ('stranger', 1), ('will', 1), ('let', 1), ('my', 1), ('your', 1), ('courtyard', 1), ('direct', 1), ('may', 1), ('lodge', 1), ('to-night', 1), ('welcomed', 1), ('bed', 1), ('own', 1), ('sitting', 1), ('up', 1), ('later', 1), ('usual', 1), ('lamp', 1), ('pot', 1), ('hand', 1), ('is', 1), ('replied', 1), ('no', 1), ('not', 1), ('yet', 1), ('so', 1), ('kettle', 1), ('filled', 1), ('fire', 1), ('poured', 1), ('sufficient', 1), ('boiling', 1), ('kill', 1), ('arose', 1), ('assemble', 1), ('men', 1), ('felt', 1), ('steam', 1), ('rage', 1), ('forced', 1), ('lock', 1), ('escape', 1), ('over', 1), ('walls', 1), ('without', 1), ('letting', 1), ('any', 1), ('thieves', 1), ('bottom', 1), ('garden', 1), ('length', 1), ('however', 1), ('determined', 1), ('adopt', 1), ('new', 1), ('scheme', 1), ('destruction', 1), ('valuable', 1), ('merchandise', 1), ('exactly', 1), ('day', 1), ('very', 1), ('fond', 1), ('presents', 1), ('often', 1), ('detained', 1), ('dinner', 1), ('thought', 1), ('necessary', 1), ('make', 1), ('return', 1), ('these', 1), ('civilities', 1), ('carried', 1), ('dish', 1), ('moment', 1), ('looked', 1), ('knew', 1), ('slaves', 1), ('waited', 1), ('table', 1), ('while', 1), ('drinking', 1), ('perceived', 1), ('under', 1), ('coat', 1), ('away', 1), ('dressed', 1), ('habit', 1), ('dancing-girl', 1), ('parlor', 1), ('master', 1), ('ordered', 1), ('come', 1), ('entertain', 1), ('best', 1), ('dancing', 1), ('danced', 1), ('several', 1), ('times', 1), ('before', 1), ('assembled', 1), ('company', 1), ('until', 1), ('drew', 1), ('girdle', 1), ('plunged', 1), ('heart', 1), ('reward', 1), ('faithfulness', 1), ('marriage', 1), ('immense', 1), ('wealth', 1)]\n"
     ]
    }
   ],
   "source": [
    "final_vocab = sorted(vocab.items(), key = op.itemgetter(1), reverse = True); print(final_vocab)"
   ]
  },
  {
   "cell_type": "markdown",
   "id": "f5d2630c",
   "metadata": {},
   "source": [
    "## Self Check\n",
    "### 2번 문제"
   ]
  },
  {
   "cell_type": "code",
   "execution_count": 45,
   "id": "374f133f",
   "metadata": {},
   "outputs": [],
   "source": [
    "book = {'역사대모험' : 20000,\n",
    "        '영단어' : 9000,\n",
    "        '파이썬' : 17000,\n",
    "        '여행에세이' : 22000,\n",
    "        '삼국지' : 33000\n",
    "       }"
   ]
  },
  {
   "cell_type": "code",
   "execution_count": 47,
   "id": "52a29174",
   "metadata": {},
   "outputs": [
    {
     "name": "stdout",
     "output_type": "stream",
     "text": [
      "{'역사대모험': 30000.0, '영단어': 9900.0, '파이썬': 25500.0, '여행에세이': 33000.0, '삼국지': 49500.0}\n"
     ]
    }
   ],
   "source": [
    "for b, p in book.items():\n",
    "    \n",
    "    if p <= 15000:\n",
    "        book[b] *= 1.1\n",
    "    else :\n",
    "        book[b] *= 1.5\n",
    "\n",
    "print(book)"
   ]
  },
  {
   "cell_type": "markdown",
   "id": "8fca1c6c",
   "metadata": {},
   "source": [
    "### 3번 문제"
   ]
  },
  {
   "cell_type": "code",
   "execution_count": 48,
   "id": "0978de57",
   "metadata": {},
   "outputs": [],
   "source": [
    "ranking = {'라이언': 956412,\n",
    "           '니니즈': 861832,\n",
    "           '어피치': 796354,\n",
    "           '프로도': 534840,\n",
    "           '네오' : 387896\n",
    "          }"
   ]
  },
  {
   "cell_type": "code",
   "execution_count": 51,
   "id": "d3c4aaae",
   "metadata": {},
   "outputs": [
    {
     "name": "stdout",
     "output_type": "stream",
     "text": [
      "[('라이언', 956412), ('니니즈', 861832), ('어피치', 796354), ('프로도', 534840), ('네오', 387896)]\n"
     ]
    }
   ],
   "source": [
    "# 내림차순 정렬\n",
    "\n",
    "print(sorted(ranking.items(), key = op.itemgetter(1), reverse = True))"
   ]
  },
  {
   "cell_type": "code",
   "execution_count": null,
   "id": "1459a4bf",
   "metadata": {},
   "outputs": [],
   "source": []
  }
 ],
 "metadata": {
  "kernelspec": {
   "display_name": "Python 3 (ipykernel)",
   "language": "python",
   "name": "python3"
  },
  "language_info": {
   "codemirror_mode": {
    "name": "ipython",
    "version": 3
   },
   "file_extension": ".py",
   "mimetype": "text/x-python",
   "name": "python",
   "nbconvert_exporter": "python",
   "pygments_lexer": "ipython3",
   "version": "3.9.7"
  }
 },
 "nbformat": 4,
 "nbformat_minor": 5
}
