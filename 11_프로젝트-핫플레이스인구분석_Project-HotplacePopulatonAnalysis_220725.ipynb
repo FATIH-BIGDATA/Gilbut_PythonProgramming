{
 "cells": [
  {
   "cell_type": "markdown",
   "id": "9aec0200",
   "metadata": {},
   "source": [
    "## 1.들어가며 (데이터 전처리)"
   ]
  },
  {
   "cell_type": "markdown",
   "id": "b19b739b",
   "metadata": {},
   "source": [
    "##### 링크 1: https://data.seoul.go.kr/dataList/OA-14991/S/1/datasetView.do#\n",
    "##### 링크 2: https://data.seoul.go.kr/dataVisual/seoul/seoulLivingPopulation.do\n",
    "##### 1) 링크1으로 들어가 생활인구 zip 파일을 받고, zip파일 안의 csv파일을 불러온다.\n",
    "##### 2) 링크2에서 행정구역 코드정보를 다운로드한다."
   ]
  },
  {
   "cell_type": "code",
   "execution_count": 34,
   "id": "7037593b",
   "metadata": {},
   "outputs": [],
   "source": [
    "# load library\n",
    "import csv\n",
    "from openpyxl import load_workbook as lw\n",
    "import matplotlib as mp\n",
    "import matplotlib.pyplot as plt\n",
    "import datetime as dt\n",
    "import numpy as np"
   ]
  },
  {
   "cell_type": "code",
   "execution_count": 2,
   "id": "71e67f89",
   "metadata": {},
   "outputs": [
    {
     "name": "stdout",
     "output_type": "stream",
     "text": [
      "305280\n"
     ]
    }
   ],
   "source": [
    "f = open(\"./data/LOCAL_PEOPLE_DONG_202206.csv\", \n",
    "        encoding = 'utf8')\n",
    "data = csv.reader(f)\n",
    "next(data) # 컬럼명 제거\n",
    "data = list(data); print(len(data))"
   ]
  },
  {
   "cell_type": "markdown",
   "id": "7af92a19",
   "metadata": {},
   "source": [
    "아래의 코드는 에러가 발생한다. 형식이 다르기에 다른 방법으로 접근해야 한다."
   ]
  },
  {
   "cell_type": "code",
   "execution_count": 3,
   "id": "0023f36b",
   "metadata": {},
   "outputs": [],
   "source": [
    "# code = open(\"./ch11_data/행정동코드_매핑정보_20200325.xlsx\", \n",
    "#         encoding = 'utf8')\n",
    "# code_data = csv.reader(code)\n",
    "# # 컬럼명 제거, 컬럼이 2줄이므로 x2\n",
    "# next(code_data)\n",
    "# next(code_data) \n",
    "# code_data = list(code_data); print(len(code_data))"
   ]
  },
  {
   "cell_type": "code",
   "execution_count": 4,
   "id": "1bc1ea63",
   "metadata": {
    "scrolled": true
   },
   "outputs": [
    {
     "name": "stdout",
     "output_type": "stream",
     "text": [
      "[[1101053, '11110530', '서울', '종로구', '사직동'], [1101054, '11110540', '서울', '종로구', '삼청동'], [1101055, '11110550', '서울', '종로구', '부암동'], [1101056, '11110560', '서울', '종로구', '평창동'], [1101057, '11110570', '서울', '종로구', '무악동'], [1101058, '11110580', '서울', '종로구', '교남동'], [1101060, '11110600', '서울', '종로구', '가회동'], [1101061, '11110615', '서울', '종로구', '종로1.2.3.4가동'], [1101063, '11110630', '서울', '종로구', '종로5.6가동'], [1101064, '11110640', '서울', '종로구', '이화동'], [1101067, '11110670', '서울', '종로구', '창신1동'], [1101068, '11110680', '서울', '종로구', '창신2동'], [1101069, '11110690', '서울', '종로구', '창신3동'], [1101070, '11110700', '서울', '종로구', '숭인1동'], [1101071, '11110710', '서울', '종로구', '숭인2동'], [1101072, '11110515', '서울', '종로구', '청운효자동'], [1101073, '11110650', '서울', '종로구', '혜화동'], [1102052, '11140520', '서울', '중구', '소공동'], [1102054, '11140540', '서울', '중구', '회현동'], [1102055, '11140550', '서울', '중구', '명동'], [1102057, '11140570', '서울', '중구', '필동'], [1102058, '11140580', '서울', '중구', '장충동'], [1102059, '11140590', '서울', '중구', '광희동'], [1102060, '11140605', '서울', '중구', '을지로동'], [1102065, '11140650', '서울', '중구', '신당5동'], [1102067, '11140670', '서울', '중구', '황학동'], [1102068, '11140680', '서울', '중구', '중림동'], [1102069, '11140615', '서울', '중구', '신당동'], [1102070, '11140625', '서울', '중구', '다산동'], [1102071, '11140635', '서울', '중구', '약수동'], [1102072, '11140645', '서울', '중구', '청구동'], [1102073, '11140665', '서울', '중구', '동화동'], [1103051, '11170510', '서울', '용산구', '후암동'], [1103052, '11170520', '서울', '용산구', '용산2가동'], [1103053, '11170530', '서울', '용산구', '남영동'], [1103057, '11170570', '서울', '용산구', '원효로2동'], [1103058, '11170580', '서울', '용산구', '효창동'], [1103059, '11170590', '서울', '용산구', '용문동'], [1103063, '11170630', '서울', '용산구', '이촌1동'], [1103064, '11170640', '서울', '용산구', '이촌2동'], [1103065, '11170650', '서울', '용산구', '이태원1동'], [1103066, '11170660', '서울', '용산구', '이태원2동'], [1103069, '11170690', '서울', '용산구', '서빙고동'], [1103070, '11170700', '서울', '용산구', '보광동'], [1103071, '11170555', '서울', '용산구', '청파동'], [1103072, '11170560', '서울', '용산구', '원효로1동'], [1103073, '11170625', '서울', '용산구', '한강로동'], [1103074, '11170685', '서울', '용산구', '한남동'], [1104052, '11200520', '서울', '성동구', '왕십리2동'], [1104054, '11200540', '서울', '성동구', '마장동'], [1104055, '11200550', '서울', '성동구', '사근동'], [1104056, '11200560', '서울', '성동구', '행당1동'], [1104057, '11200570', '서울', '성동구', '행당2동'], [1104058, '11200580', '서울', '성동구', '응봉동'], [1104059, '11200590', '서울', '성동구', '금호1가동'], [1104062, '11200620', '서울', '성동구', '금호4가동'], [1104065, '11200650', '서울', '성동구', '성수1가1동'], [1104066, '11200660', '서울', '성동구', '성수1가2동'], [1104067, '11200670', '서울', '성동구', '성수2가1동'], [1104068, '11200690', '서울', '성동구', '성수2가3동'], [1104069, '11200720', '서울', '성동구', '송정동'], [1104070, '11200790', '서울', '성동구', '용답동'], [1104071, '11200535', '서울', '성동구', '왕십리도선동'], [1104072, '11200615', '서울', '성동구', '금호2.3가동'], [1104073, '11200645', '서울', '성동구', '옥수동'], [1105053, '11215710', '서울', '광진구', '화양동'], [1105054, '11215730', '서울', '광진구', '군자동'], [1105055, '11215740', '서울', '광진구', '중곡1동'], [1105056, '11215750', '서울', '광진구', '중곡2동'], [1105057, '11215760', '서울', '광진구', '중곡3동'], [1105058, '11215770', '서울', '광진구', '중곡4동'], [1105059, '11215780', '서울', '광진구', '능동'], [1105060, '11215850', '서울', '광진구', '구의1동'], [1105061, '11215860', '서울', '광진구', '구의2동'], [1105062, '11215870', '서울', '광진구', '구의3동'], [1105063, '11215810', '서울', '광진구', '광장동'], [1105064, '11215820', '서울', '광진구', '자양1동'], [1105065, '11215830', '서울', '광진구', '자양2동'], [1105066, '11215840', '서울', '광진구', '자양3동'], [1105067, '11215847', '서울', '광진구', '자양4동'], [1106071, '11230710', '서울', '동대문구', '회기동'], [1106072, '11230720', '서울', '동대문구', '휘경1동'], [1106073, '11230730', '서울', '동대문구', '휘경2동'], [1106080, '11230705', '서울', '동대문구', '청량리동'], [1106081, '11230536', '서울', '동대문구', '용신동'], [1106082, '11230545', '서울', '동대문구', '제기동'], [1106083, '11230560', '서울', '동대문구', '전농1동'], [1106084, '11230570', '서울', '동대문구', '전농2동'], [1106086, '11230610', '서울', '동대문구', '답십리2동'], [1106087, '11230650', '서울', '동대문구', '장안1동'], [1106088, '11230660', '서울', '동대문구', '장안2동'], [1106089, '11230740', '서울', '동대문구', '이문1동'], [1106090, '11230750', '서울', '동대문구', '이문2동'], [1106091, '11230600', '서울', '동대문구', '답십리1동'], [1107052, '11260520', '서울', '중랑구', '면목2동'], [1107054, '11260540', '서울', '중랑구', '면목4동'], [1107055, '11260550', '서울', '중랑구', '면목5동'], [1107057, '11260570', '서울', '중랑구', '면목7동'], [1107059, '11260580', '서울', '중랑구', '상봉1동'], [1107060, '11260590', '서울', '중랑구', '상봉2동'], [1107061, '11260600', '서울', '중랑구', '중화1동'], [1107062, '11260610', '서울', '중랑구', '중화2동'], [1107064, '11260620', '서울', '중랑구', '묵1동'], [1107065, '11260630', '서울', '중랑구', '묵2동'], [1107068, '11260660', '서울', '중랑구', '망우3동'], [1107069, '11260680', '서울', '중랑구', '신내1동'], [1107070, '11260690', '서울', '중랑구', '신내2동'], [1107071, '11260565', '서울', '중랑구', '면목본동'], [1107072, '11260575', '서울', '중랑구', '면목3.8동'], [1107073, '11260655', '서울', '중랑구', '망우본동'], [1108058, '11290580', '서울', '성북구', '돈암1동'], [1108059, '11290590', '서울', '성북구', '돈암2동'], [1108060, '11290600', '서울', '성북구', '안암동'], [1108061, '11290610', '서울', '성북구', '보문동'], [1108062, '11290620', '서울', '성북구', '정릉1동'], [1108063, '11290630', '서울', '성북구', '정릉2동'], [1108064, '11290640', '서울', '성북구', '정릉3동'], [1108065, '11290650', '서울', '성북구', '정릉4동'], [1108066, '11290660', '서울', '성북구', '길음1동'], [1108068, '11290685', '서울', '성북구', '길음2동'], [1108071, '11290715', '서울', '성북구', '월곡1동'], [1108072, '11290725', '서울', '성북구', '월곡2동'], [1108076, '11290760', '서울', '성북구', '장위1동'], [1108077, '11290770', '서울', '성북구', '장위2동'], [1108078, '11290780', '서울', '성북구', '장위3동'], [1108081, '11290525', '서울', '성북구', '성북동'], [1108082, '11290555', '서울', '성북구', '삼선동'], [1108083, '11290575', '서울', '성북구', '동선동'], [1108084, '11290705', '서울', '성북구', '종암동'], [1108085, '11290810', '서울', '성북구', '석관동'], [1109060, '11305590', '서울', '강북구', '번1동'], [1109061, '11305600', '서울', '강북구', '번2동'], [1109062, '11305606', '서울', '강북구', '번3동'], [1109063, '11305610', '서울', '강북구', '수유1동'], [1109064, '11305620', '서울', '강북구', '수유2동'], [1109065, '11305630', '서울', '강북구', '수유3동'], [1109069, '11305534', '서울', '강북구', '삼양동'], [1109070, '11305535', '서울', '강북구', '미아동'], [1109071, '11305545', '서울', '강북구', '송중동'], [1109072, '11305555', '서울', '강북구', '송천동'], [1109073, '11305575', '서울', '강북구', '삼각산동'], [1109074, '11305645', '서울', '강북구', '우이동'], [1109075, '11305660', '서울', '강북구', '인수동'], [1110051, '11320660', '서울', '도봉구', '쌍문1동'], [1110052, '11320670', '서울', '도봉구', '쌍문2동'], [1110053, '11320680', '서울', '도봉구', '쌍문3동'], [1110054, '11320681', '서울', '도봉구', '쌍문4동'], [1110055, '11320690', '서울', '도봉구', '방학1동'], [1110056, '11320700', '서울', '도봉구', '방학2동'], [1110057, '11320710', '서울', '도봉구', '방학3동'], [1110059, '11320511', '서울', '도봉구', '창1동'], [1110060, '11320512', '서울', '도봉구', '창2동'], [1110061, '11320513', '서울', '도봉구', '창3동'], [1110062, '11320514', '서울', '도봉구', '창4동'], [1110063, '11320515', '서울', '도봉구', '창5동'], [1110064, '11320521', '서울', '도봉구', '도봉1동'], [1110065, '11320522', '서울', '도봉구', '도봉2동'], [1111051, '11350560', '서울', '노원구', '월계1동'], [1111052, '11350570', '서울', '노원구', '월계2동'], [1111053, '11350580', '서울', '노원구', '월계3동'], [1111056, '11350600', '서울', '노원구', '공릉2동'], [1111058, '11350611', '서울', '노원구', '하계1동'], [1111059, '11350612', '서울', '노원구', '하계2동'], [1111060, '11350619', '서울', '노원구', '중계본동'], [1111061, '11350621', '서울', '노원구', '중계1동'], [1111064, '11350624', '서울', '노원구', '중계4동'], [1111065, '11350630', '서울', '노원구', '상계1동'], [1111066, '11350640', '서울', '노원구', '상계2동'], [1111069, '11350670', '서울', '노원구', '상계5동'], [1111072, '11350700', '서울', '노원구', '상계8동'], [1111073, '11350710', '서울', '노원구', '상계9동'], [1111074, '11350720', '서울', '노원구', '상계10동'], [1111076, '11350665', '서울', '노원구', '상계3.4동'], [1111077, '11350695', '서울', '노원구', '상계6.7동'], [1111078, '11350625', '서울', '노원구', '중계2.3동'], [1111079, '11350595', '서울', '노원구', '공릉1동'], [1112051, '11380510', '서울', '은평구', '녹번동'], [1112052, '11380520', '서울', '은평구', '불광1동'], [1112055, '11380551', '서울', '은평구', '갈현1동'], [1112056, '11380552', '서울', '은평구', '갈현2동'], [1112057, '11380560', '서울', '은평구', '구산동'], [1112058, '11380570', '서울', '은평구', '대조동'], [1112059, '11380580', '서울', '은평구', '응암1동'], [1112060, '11380590', '서울', '은평구', '응암2동'], [1112065, '11380631', '서울', '은평구', '신사1동'], [1112066, '11380632', '서울', '은평구', '신사2동'], [1112067, '11380640', '서울', '은평구', '증산동'], [1112068, '11380650', '서울', '은평구', '수색동'], [1112071, '11380690', '서울', '은평구', '진관동'], [1112072, '11380530', '서울', '은평구', '불광2동'], [1112073, '11380600', '서울', '은평구', '응암3동'], [1112074, '11380625', '서울', '은평구', '역촌동'], [1113052, '11410520', '서울', '서대문구', '천연동'], [1113062, '11410620', '서울', '서대문구', '홍제1동'], [1113064, '11410640', '서울', '서대문구', '홍제3동'], [1113065, '11410655', '서울', '서대문구', '홍제2동'], [1113066, '11410660', '서울', '서대문구', '홍은1동'], [1113068, '11410685', '서울', '서대문구', '홍은2동'], [1113069, '11410690', '서울', '서대문구', '남가좌1동'], [1113070, '11410700', '서울', '서대문구', '남가좌2동'], [1113071, '11410710', '서울', '서대문구', '북가좌1동'], [1113072, '11410720', '서울', '서대문구', '북가좌2동'], [1113073, '11410565', '서울', '서대문구', '충현동'], [1113074, '11410555', '서울', '서대문구', '북아현동'], [1113075, '11410585', '서울', '서대문구', '신촌동'], [1113076, '11410615', '서울', '서대문구', '연희동'], [1114059, '11440590', '서울', '마포구', '용강동'], [1114060, '11440600', '서울', '마포구', '대흥동'], [1114061, '11440610', '서울', '마포구', '염리동'], [1114063, '11440630', '서울', '마포구', '신수동'], [1114066, '11440660', '서울', '마포구', '서교동'], [1114068, '11440680', '서울', '마포구', '합정동'], [1114069, '11440690', '서울', '마포구', '망원1동'], [1114070, '11440700', '서울', '마포구', '망원2동'], [1114071, '11440710', '서울', '마포구', '연남동'], [1114072, '11440720', '서울', '마포구', '성산1동'], [1114073, '11440730', '서울', '마포구', '성산2동'], [1114074, '11440740', '서울', '마포구', '상암동'], [1114075, '11440585', '서울', '마포구', '도화동'], [1114076, '11440655', '서울', '마포구', '서강동'], [1114077, '11440565', '서울', '마포구', '공덕동'], [1114078, '11440555', '서울', '마포구', '아현동'], [1115051, '11470510', '서울', '양천구', '목1동'], [1115052, '11470520', '서울', '양천구', '목2동'], [1115053, '11470530', '서울', '양천구', '목3동'], [1115054, '11470540', '서울', '양천구', '목4동'], [1115057, '11470560', '서울', '양천구', '신월1동'], [1115058, '11470570', '서울', '양천구', '신월2동'], [1115059, '11470580', '서울', '양천구', '신월3동'], [1115060, '11470590', '서울', '양천구', '신월4동'], [1115061, '11470600', '서울', '양천구', '신월5동'], [1115062, '11470610', '서울', '양천구', '신월6동'], [1115063, '11470611', '서울', '양천구', '신월7동'], [1115064, '11470620', '서울', '양천구', '신정1동'], [1115065, '11470630', '서울', '양천구', '신정2동'], [1115066, '11470640', '서울', '양천구', '신정3동'], [1115069, '11470670', '서울', '양천구', '신정6동'], [1115070, '11470680', '서울', '양천구', '신정7동'], [1115071, '11470550', '서울', '양천구', '목5동'], [1115072, '11470650', '서울', '양천구', '신정4동'], [1116051, '11500510', '서울', '강서구', '염창동'], [1116052, '11500520', '서울', '강서구', '등촌1동'], [1116053, '11500530', '서울', '강서구', '등촌2동'], [1116054, '11500535', '서울', '강서구', '등촌3동'], [1116055, '11500590', '서울', '강서구', '화곡본동'], [1116057, '11500550', '서울', '강서구', '화곡2동'], [1116058, '11500560', '서울', '강서구', '화곡3동'], [1116059, '11500570', '서울', '강서구', '화곡4동'], [1116061, '11500591', '서울', '강서구', '화곡6동'], [1116063, '11500593', '서울', '강서구', '화곡8동'], [1116064, '11500603', '서울', '강서구', '가양1동'], [1116065, '11500604', '서울', '강서구', '가양2동'], [1116066, '11500605', '서울', '강서구', '가양3동'], [1116067, '11500611', '서울', '강서구', '발산1동'], [1116069, '11500620', '서울', '강서구', '공항동'], [1116070, '11500630', '서울', '강서구', '방화1동'], [1116071, '11500640', '서울', '강서구', '방화2동'], [1116072, '11500641', '서울', '강서구', '방화3동'], [1116073, '11500540', '서울', '강서구', '화곡1동'], [1116074, '11500615', '서울', '강서구', '우장산동'], [1117051, '11530510', '서울', '구로구', '신도림동'], [1117052, '11530520', '서울', '구로구', '구로1동'], [1117054, '11530540', '서울', '구로구', '구로3동'], [1117055, '11530550', '서울', '구로구', '구로4동'], [1117056, '11530560', '서울', '구로구', '구로5동'], [1117061, '11530720', '서울', '구로구', '고척1동'], [1117062, '11530730', '서울', '구로구', '고척2동'], [1117064, '11530750', '서울', '구로구', '개봉2동'], [1117065, '11530760', '서울', '구로구', '개봉3동'], [1117067, '11530770', '서울', '구로구', '오류1동'], [1117068, '11530780', '서울', '구로구', '오류2동'], [1117069, '11530790', '서울', '구로구', '수궁동'], [1117070, '11530595', '서울', '구로구', '가리봉동'], [1117071, '11530530', '서울', '구로구', '구로2동'], [1117072, '11530740', '서울', '구로구', '개봉1동'], [1118051, '11545510', '서울', '금천구', '가산동'], [1118052, '11545610', '서울', '금천구', '독산1동'], [1118053, '11545620', '서울', '금천구', '독산2동'], [1118054, '11545630', '서울', '금천구', '독산3동'], [1118055, '11545640', '서울', '금천구', '독산4동'], [1118057, '11545670', '서울', '금천구', '시흥1동'], [1118058, '11545680', '서울', '금천구', '시흥2동'], [1118059, '11545690', '서울', '금천구', '시흥3동'], [1118060, '11545700', '서울', '금천구', '시흥4동'], [1118061, '11545710', '서울', '금천구', '시흥5동'], [1119054, '11560540', '서울', '영등포구', '여의동'], [1119055, '11560550', '서울', '영등포구', '당산1동'], [1119056, '11560560', '서울', '영등포구', '당산2동'], [1119061, '11560610', '서울', '영등포구', '양평1동'], [1119062, '11560620', '서울', '영등포구', '양평2동'], [1119063, '11560630', '서울', '영등포구', '신길1동'], [1119065, '11560650', '서울', '영등포구', '신길3동'], [1119066, '11560660', '서울', '영등포구', '신길4동'], [1119067, '11560670', '서울', '영등포구', '신길5동'], [1119068, '11560680', '서울', '영등포구', '신길6동'], [1119069, '11560690', '서울', '영등포구', '신길7동'], [1119070, '11560700', '서울', '영등포구', '대림1동'], [1119071, '11560710', '서울', '영등포구', '대림2동'], [1119072, '11560720', '서울', '영등포구', '대림3동'], [1119073, '11560515', '서울', '영등포구', '영등포본동'], [1119074, '11560535', '서울', '영등포구', '영등포동'], [1119075, '11560585', '서울', '영등포구', '도림동'], [1119076, '11560605', '서울', '영등포구', '문래동'], [1120052, '11590520', '서울', '동작구', '노량진2동'], [1120053, '11590530', '서울', '동작구', '상도1동'], [1120054, '11590540', '서울', '동작구', '상도2동'], [1120055, '11590550', '서울', '동작구', '상도3동'], [1120056, '11590560', '서울', '동작구', '상도4동'], [1120063, '11590620', '서울', '동작구', '사당1동'], [1120065, '11590640', '서울', '동작구', '사당3동'], [1120066, '11590650', '서울', '동작구', '사당4동'], [1120067, '11590651', '서울', '동작구', '사당5동'], [1120068, '11590660', '서울', '동작구', '대방동'], [1120069, '11590670', '서울', '동작구', '신대방1동'], [1120070, '11590680', '서울', '동작구', '신대방2동'], [1120071, '11590605', '서울', '동작구', '흑석동'], [1120072, '11590510', '서울', '동작구', '노량진1동'], [1120073, '11590630', '서울', '동작구', '사당2동'], [1121052, '11620525', '서울', '관악구', '보라매동'], [1121054, '11620545', '서울', '관악구', '청림동'], [1121057, '11620575', '서울', '관악구', '행운동'], [1121058, '11620585', '서울', '관악구', '낙성대동'], [1121061, '11620615', '서울', '관악구', '중앙동'], [1121062, '11620625', '서울', '관악구', '인헌동'], [1121063, '11620630', '서울', '관악구', '남현동'], [1121064, '11620645', '서울', '관악구', '서원동'], [1121065, '11620655', '서울', '관악구', '신원동'], [1121066, '11620665', '서울', '관악구', '서림동'], [1121068, '11620685', '서울', '관악구', '신사동'], [1121069, '11620695', '서울', '관악구', '신림동'], [1121071, '11620715', '서울', '관악구', '난향동'], [1121072, '11620725', '서울', '관악구', '조원동'], [1121073, '11620735', '서울', '관악구', '대학동'], [1121078, '11620605', '서울', '관악구', '은천동'], [1121079, '11620565', '서울', '관악구', '성현동'], [1121080, '11620595', '서울', '관악구', '청룡동'], [1121081, '11620775', '서울', '관악구', '난곡동'], [1121082, '11620745', '서울', '관악구', '삼성동'], [1121083, '11620765', '서울', '관악구', '미성동'], [1122051, '11650510', '서울', '서초구', '서초1동'], [1122052, '11650520', '서울', '서초구', '서초2동'], [1122053, '11650530', '서울', '서초구', '서초3동'], [1122054, '11650531', '서울', '서초구', '서초4동'], [1122055, '11650540', '서울', '서초구', '잠원동'], [1122056, '11650550', '서울', '서초구', '반포본동'], [1122057, '11650560', '서울', '서초구', '반포1동'], [1122058, '11650570', '서울', '서초구', '반포2동'], [1122059, '11650580', '서울', '서초구', '반포3동'], [1122060, '11650581', '서울', '서초구', '반포4동'], [1122061, '11650590', '서울', '서초구', '방배본동'], [1122062, '11650600', '서울', '서초구', '방배1동'], [1122063, '11650610', '서울', '서초구', '방배2동'], [1122064, '11650620', '서울', '서초구', '방배3동'], [1122065, '11650621', '서울', '서초구', '방배4동'], [1122066, '11650651', '서울', '서초구', '양재1동'], [1122067, '11650652', '서울', '서초구', '양재2동'], [1122068, '11650660', '서울', '서초구', '내곡동'], [1123051, '11680510', '서울', '강남구', '신사동'], [1123052, '11680521', '서울', '강남구', '논현1동'], [1123053, '11680531', '서울', '강남구', '논현2동'], [1123058, '11680580', '서울', '강남구', '삼성1동'], [1123059, '11680590', '서울', '강남구', '삼성2동'], [1123060, '11680600', '서울', '강남구', '대치1동'], [1123063, '11680630', '서울', '강남구', '대치4동'], [1123064, '11680640', '서울', '강남구', '역삼1동'], [1123065, '11680650', '서울', '강남구', '역삼2동'], [1123066, '11680655', '서울', '강남구', '도곡1동'], [1123067, '11680656', '서울', '강남구', '도곡2동'], [1123068, '11680660', '서울', '강남구', '개포1동'], [1123071, '11680690', '서울', '강남구', '개포4동'], [1123072, '11680720', '서울', '강남구', '일원본동'], [1123073, '11680730', '서울', '강남구', '일원1동'], [1123074, '11680740', '서울', '강남구', '일원2동'], [1123075, '11680750', '서울', '강남구', '수서동'], [1123076, '11680700', '서울', '강남구', '세곡동'], [1123077, '11680545', '서울', '강남구', '압구정동'], [1123078, '11680565', '서울', '강남구', '청담동'], [1123079, '11680610', '서울', '강남구', '대치2동'], [1123080, '11680670', '서울', '강남구', '개포2동'], [1124051, '11710510', '서울', '송파구', '풍납1동'], [1124052, '11710520', '서울', '송파구', '풍납2동'], [1124053, '11710531', '서울', '송파구', '거여1동'], [1124054, '11710532', '서울', '송파구', '거여2동'], [1124055, '11710540', '서울', '송파구', '마천1동'], [1124056, '11710550', '서울', '송파구', '마천2동'], [1124057, '11710561', '서울', '송파구', '방이1동'], [1124058, '11710562', '서울', '송파구', '방이2동'], [1124059, '11710566', '서울', '송파구', '오륜동'], [1124060, '11710570', '서울', '송파구', '오금동'], [1124061, '11710580', '서울', '송파구', '송파1동'], [1124062, '11710590', '서울', '송파구', '송파2동'], [1124063, '11710600', '서울', '송파구', '석촌동'], [1124064, '11710610', '서울', '송파구', '삼전동'], [1124065, '11710620', '서울', '송파구', '가락본동'], [1124066, '11710631', '서울', '송파구', '가락1동'], [1124067, '11710632', '서울', '송파구', '가락2동'], [1124068, '11710641', '서울', '송파구', '문정1동'], [1124069, '11710642', '서울', '송파구', '문정2동'], [1124071, '11710650', '서울', '송파구', '잠실본동'], [1124075, '11710690', '서울', '송파구', '잠실4동'], [1124077, '11710710', '서울', '송파구', '잠실6동'], [1124078, '11710720', '서울', '송파구', '잠실7동'], [1124079, '11710670', '서울', '송파구', '잠실2동'], [1124080, '11710680', '서울', '송파구', '잠실3동'], [1124081, '11710646', '서울', '송파구', '장지동'], [1124082, '11710647', '서울', '송파구', '위례동'], [1125051, '11740515', '서울', '강동구', '강일동'], [1125052, '11740520', '서울', '강동구', '상일동'], [1125053, '11740530', '서울', '강동구', '명일1동'], [1125054, '11740540', '서울', '강동구', '명일2동'], [1125055, '11740550', '서울', '강동구', '고덕1동'], [1125056, '11740560', '서울', '강동구', '고덕2동'], [1125058, '11740580', '서울', '강동구', '암사2동'], [1125059, '11740590', '서울', '강동구', '암사3동'], [1125061, '11740600', '서울', '강동구', '천호1동'], [1125063, '11740620', '서울', '강동구', '천호3동'], [1125065, '11740640', '서울', '강동구', '성내1동'], [1125066, '11740650', '서울', '강동구', '성내2동'], [1125067, '11740660', '서울', '강동구', '성내3동'], [1125070, '11740690', '서울', '강동구', '둔촌1동'], [1125071, '11740700', '서울', '강동구', '둔촌2동'], [1125072, '11740570', '서울', '강동구', '암사1동'], [1125073, '11740610', '서울', '강동구', '천호2동'], [1125074, '11740685', '서울', '강동구', '길동']]\n"
     ]
    }
   ],
   "source": [
    "code = lw(\"./data/행정동코드_매핑정보_20200325.xlsx\", \n",
    "                        data_only = True) # 수식 제외 셀값만 가져오기\n",
    "\n",
    "# 행정동코드 시트의 데이터 가져오기\n",
    "code = code['행정동코드']\n",
    "\n",
    "# 행과 열의 데이터 출력 \n",
    "all_cell = []\n",
    "\n",
    "# code 데이터를 행 단위로 가져온다.\n",
    "for r in code.rows:\n",
    "    r_value = [] # 빈 셀을 만든다\n",
    "    \n",
    "    # 행 단위로 가져온 데이터에서 셀값을 추출해 리스트에 담는다.\n",
    "    for cell in r:\n",
    "        r_value.append(cell.value)\n",
    "    \n",
    "    # 위의 과정을 반복하며 모든 데이터를 가져온다.\n",
    "    all_cell.append(r_value)\n",
    "\n",
    "# 컬럼을 제외한다.\n",
    "code = all_cell[2:]\n",
    "print(code)"
   ]
  },
  {
   "cell_type": "markdown",
   "id": "94f802d2",
   "metadata": {},
   "source": [
    "csv에서 가져왔기 때문에 모두 자료형이 문자열이다. 따라서 자료형 변경을 해줘야 한다."
   ]
  },
  {
   "cell_type": "code",
   "execution_count": 5,
   "id": "27383803",
   "metadata": {},
   "outputs": [
    {
     "name": "stdout",
     "output_type": "stream",
     "text": [
      "['20220601', '00', '11350624', '17421.754099999998', '516.6827', '422.99340000000001', '705.31780000000003', '482.48430000000002', '418.18680000000001', '348.43650000000002', '464.22359999999998', '549.71069999999997', '719.30849999999998', '680.2731', '623.29999999999995', '552.31479999999999', '423.4162', '929.27350000000001', '611.31129999999996', '413.38630000000001', '584.92539999999997', '474.68259999999998', '472.49540000000002', '382.68950000000001', '511.09570000000002', '577.39520000000005', '891.16179999999997', '861.1078', '789.04899999999998', '604.15229999999997', '533.90110000000004', '1878.4782', '']\n"
     ]
    }
   ],
   "source": [
    "print(data[0])"
   ]
  },
  {
   "cell_type": "code",
   "execution_count": 6,
   "id": "9485a41e",
   "metadata": {},
   "outputs": [
    {
     "name": "stdout",
     "output_type": "stream",
     "text": [
      "['20220601', 0, 11350624, 17421.7541, 516.6827, 422.9934, 705.3178, 482.4843, 418.1868, 348.4365, 464.2236, 549.7107, 719.3085, 680.2731, 623.3, 552.3148, 423.4162, 929.2735, 611.3113, 413.3863, 584.9254, 474.6826, 472.4954, 382.6895, 511.0957, 577.3952, 891.1618, 861.1078, 789.049, 604.1523, 533.9011, 1878.4782, '']\n"
     ]
    }
   ],
   "source": [
    "for row in data:\n",
    "    for i in range(32):\n",
    "        if i == 0 :\n",
    "            row[i] = str(row[i])\n",
    "        elif i <= 2:\n",
    "            row[i] = int(row[i])\n",
    "        else :\n",
    "            row[i] = float(row[i])\n",
    "            \n",
    "print(data[0])"
   ]
  },
  {
   "cell_type": "markdown",
   "id": "eaf0acd3",
   "metadata": {},
   "source": [
    "행정동 코드 데이터도 살펴본다. 행자부 코드는 문자열로 되어 있지만, 통계청은 int. 위에서 코드를 int로 해주었으므로 동일하게 맞춰준다."
   ]
  },
  {
   "cell_type": "code",
   "execution_count": 7,
   "id": "b3a86399",
   "metadata": {},
   "outputs": [
    {
     "name": "stdout",
     "output_type": "stream",
     "text": [
      "[1101053, '11110530', '서울', '종로구', '사직동']\n"
     ]
    }
   ],
   "source": [
    "print(code[0])\n",
    "\n",
    "for row in code:\n",
    "    row[1] = int(row[1])"
   ]
  },
  {
   "cell_type": "markdown",
   "id": "b6b7364e",
   "metadata": {},
   "source": [
    "#### 행정동과 코드 연결\n",
    "행정동 코드 목록에 있는 행정동명과 일치하지 않으면 에러 발생"
   ]
  },
  {
   "cell_type": "code",
   "execution_count": null,
   "id": "f1c83307",
   "metadata": {},
   "outputs": [],
   "source": [
    "dong = input(\"행정동을 입력하세요! => \")\n",
    "\n",
    "for row in code:\n",
    "    if row[-1] == dong:\n",
    "        dong_code = row[1]\n",
    "\n",
    "print(dong, \"(\" , dong_code , \")\" + \"을 분석합니다.\")"
   ]
  },
  {
   "cell_type": "markdown",
   "id": "ccccf2d6",
   "metadata": {},
   "source": [
    "#### 전체 코드"
   ]
  },
  {
   "cell_type": "code",
   "execution_count": 21,
   "id": "fa606fcb",
   "metadata": {},
   "outputs": [
    {
     "name": "stdout",
     "output_type": "stream",
     "text": [
      "일시 자료형은? <class 'str'>\n",
      "핫플레이스가 있는 행정동을 입력하세요! => 연남동\n",
      "연남동 ( 11440710 )을 분석합니다.\n"
     ]
    }
   ],
   "source": [
    "# load library\n",
    "import csv\n",
    "from openpyxl import load_workbook as lw\n",
    "\n",
    "# 생활인구 데이터\n",
    "f = open(\"./ch11_data/LOCAL_PEOPLE_DONG_202206.csv\", \n",
    "        encoding = 'utf8')\n",
    "data = csv.reader(f)\n",
    "next(data) # 컬럼명 제거\n",
    "data = list(data)\n",
    "\n",
    "# 행정동 코드 데이터\n",
    "code = lw(\"./ch11_data/행정동코드_매핑정보_20200325.xlsx\", \n",
    "                        data_only = True) # 수식 제외 셀값만 가져오기\n",
    "\n",
    "# 행정동코드 시트의 데이터 가져오기\n",
    "code = code['행정동코드']\n",
    "\n",
    "# 행과 열의 데이터 출력 \n",
    "all_cell = []\n",
    "\n",
    "# code 데이터를 행 단위로 가져온다.\n",
    "for r in code.rows:\n",
    "    r_value = [] # 빈 셀을 만든다\n",
    "    \n",
    "    # 행 단위로 가져온 데이터에서 셀값을 추출해 리스트에 담는다.\n",
    "    for cell in r:\n",
    "        r_value.append(cell.value)\n",
    "    \n",
    "    # 위의 과정을 반복하며 모든 데이터를 가져온다.\n",
    "    all_cell.append(r_value)\n",
    "\n",
    "# 컬럼을 제외한다.\n",
    "code = all_cell[2:]\n",
    "\n",
    "# 행정동 데이터 자료형 변환\n",
    "for row in data:\n",
    "    for i in range(32):\n",
    "        if i == 0 :\n",
    "            row[i] = str(row[i])\n",
    "        elif i <= 2 :\n",
    "            row[i] = int(row[i])\n",
    "        else :\n",
    "            row[i] = float(row[i])\n",
    "\n",
    "print(\"일시 자료형은?\", type(data[0][0]))\n",
    "\n",
    "# 코드 데이터 자료형 변환\n",
    "for row in code:\n",
    "    row[1] = int(row[1])\n",
    "\n",
    "# 동 이름과 코드 연결            \n",
    "dong = input(\"행정동을 입력하세요! => \")\n",
    "\n",
    "for row in code:\n",
    "    if row[-1] == dong:\n",
    "        dong_code = row[1]\n",
    "\n",
    "print(dong, \"(\" , dong_code , \")\" + \"을 분석합니다.\")"
   ]
  },
  {
   "cell_type": "markdown",
   "id": "6553e231",
   "metadata": {},
   "source": [
    "## 하위 목표 1 - 시간대별 인구 분석"
   ]
  },
  {
   "cell_type": "markdown",
   "id": "d0e924a8",
   "metadata": {},
   "source": [
    "##### 리스트 내포 (list comprehension)\n",
    "지금까지 빈 리스트를 만들고 반복문을 사용해 데이터를 저장해왔다. 이제 한 줄로 간결하게 줄여보자!"
   ]
  },
  {
   "cell_type": "code",
   "execution_count": 22,
   "id": "31e08407",
   "metadata": {},
   "outputs": [
    {
     "data": {
      "text/plain": [
       "[0, 0, 0, 0, 0, 0, 0, 0, 0, 0, 0, 0, 0, 0, 0, 0, 0, 0, 0, 0, 0, 0, 0, 0]"
      ]
     },
     "execution_count": 22,
     "metadata": {},
     "output_type": "execute_result"
    }
   ],
   "source": [
    "# 초기값 0 지정, 24회 반복 (24시간이므로)\n",
    "pop = [0 for i in range(24)]; pop"
   ]
  },
  {
   "cell_type": "code",
   "execution_count": 23,
   "id": "b084e3e6",
   "metadata": {},
   "outputs": [
    {
     "name": "stdout",
     "output_type": "stream",
     "text": [
      "[596433.6638999999, 597081.0015, 598768.2003999999, 601576.2197000001, 601551.7558999999, 593404.7777000001, 582445.144, 560161.724, 521014.0299999999, 506090.98880000005, 504300.37999999995, 515942.6201, 536077.2229000002, 551870.1034999999, 563835.3826999997, 567879.0555, 564313.9719, 574041.4595, 592031.4796000001, 608135.7964999999, 598681.7679999999, 576592.4777, 565197.5040999999, 605685.6503999999]\n"
     ]
    }
   ],
   "source": [
    "for row in data :\n",
    "    if row[2] == dong_code:\n",
    "        pop[row[1]] += row[3]\n",
    "print(pop)"
   ]
  },
  {
   "cell_type": "code",
   "execution_count": 24,
   "id": "54131bb3",
   "metadata": {},
   "outputs": [
    {
     "data": {
      "text/plain": [
       "[19239.795609677418,\n",
       " 19260.677467741934,\n",
       " 19315.10323870967,\n",
       " 19405.684506451616,\n",
       " 19404.8953516129,\n",
       " 19142.08960322581,\n",
       " 18788.553032258063,\n",
       " 18069.733032258067,\n",
       " 16806.904193548384,\n",
       " 16325.515767741937,\n",
       " 16267.754193548386,\n",
       " 16643.31032580645,\n",
       " 17292.81364193549,\n",
       " 17802.261403225802,\n",
       " 18188.238151612895,\n",
       " 18318.67920967742,\n",
       " 18203.676512903225,\n",
       " 18517.46643548387,\n",
       " 19097.78966451613,\n",
       " 19617.283758064514,\n",
       " 19312.31509677419,\n",
       " 18599.75734516129,\n",
       " 18232.177551612902,\n",
       " 19538.24678709677]"
      ]
     },
     "execution_count": 24,
     "metadata": {},
     "output_type": "execute_result"
    }
   ],
   "source": [
    "# 한달 기준\n",
    "pop = [i/31 for i in pop]; pop"
   ]
  },
  {
   "cell_type": "code",
   "execution_count": 25,
   "id": "ed78e66f",
   "metadata": {},
   "outputs": [
    {
     "data": {
      "image/png": "[encoded data removed]",
      "text/plain": [
       "<Figure size 432x288 with 1 Axes>"
      ]
     },
     "metadata": {
      "needs_background": "light"
     },
     "output_type": "display_data"
    }
   ],
   "source": [
    "# 그래프 작성\n",
    "plt.rc('font', family = \"Malgun Gothic\")\n",
    "plt.title(\"%s 시간대별 평균인구\" %dong)\n",
    "plt.plot(range(24), pop, color = \"darkblue\")\n",
    "plt.xticks(range(24), range(24))\n",
    "plt.show()"
   ]
  },
  {
   "cell_type": "markdown",
   "id": "00ea3f0a",
   "metadata": {},
   "source": [
    "## 하위 목표 2 - 주중/주말 시간대별 인구분석"
   ]
  },
  {
   "cell_type": "code",
   "execution_count": 26,
   "id": "bb7012db",
   "metadata": {},
   "outputs": [
    {
     "data": {
      "text/plain": [
       "1"
      ]
     },
     "execution_count": 26,
     "metadata": {},
     "output_type": "execute_result"
    }
   ],
   "source": [
    "# 오늘 요일 확인 (월-1~ 일-6)\n",
    "dt.date.today().weekday()"
   ]
  },
  {
   "cell_type": "code",
   "execution_count": 27,
   "id": "18e66ac8",
   "metadata": {},
   "outputs": [
    {
     "name": "stdout",
     "output_type": "stream",
     "text": [
      "1월 주중 : 21 1월 주말 : 10\n",
      "주중 인구:  [20820.715452380955, 20872.608723809528, 20940.725523809524, 21045.74980476191, 21026.11608095238, 20752.7309, 20337.21577142857, 19412.713723809524, 17860.072242857143, 17450.71424761905, 17462.510238095238, 17830.642576190476, 18426.331295238095, 18770.759076190476, 19003.80554285714, 19087.22301904762, 18815.173904761905, 19117.22594761905, 19849.531766666667, 20571.39910476191, 20436.791476190476, 19754.122780952377, 19425.17200952381, 20823.62509047619]\n",
      "주말 인구:  [15919.86394, 15875.62183, 15901.29644, 15961.547379999998, 16000.331820000001, 15759.74288, 15536.361280000001, 15249.47358, 14595.25129, 13962.59896, 13758.766500000002, 14149.9126, 14912.42657, 15768.416290000003, 16475.54663, 16704.73721, 16919.53199, 17257.97146, 17519.13125, 17613.64153, 16950.9147, 16175.589929999998, 15726.889190000002, 16838.95235]\n"
     ]
    }
   ],
   "source": [
    "weekday = [0 for i in range(24)]\n",
    "weekend = [0 for i in range(24)]\n",
    "\n",
    "for row in data:\n",
    "    if row[2] == dong_code:\n",
    "        if dt.date(int(row[0][:4]), int(row[0][4:6]), int(row[0][6:])).weekday() < 5:\n",
    "            weekday[row[1]] += row[3]\n",
    "        else :\n",
    "            weekend[row[1]] += row[3]\n",
    "\n",
    "# 2021년 1월의 주중/주말 일수 구하기\n",
    "day_num, end_num = 0,0\n",
    "\n",
    "for i in range(1,32):\n",
    "    if dt.date(2021,1,i).weekday() < 5:\n",
    "        day_num +=1\n",
    "    else:\n",
    "        end_num +=1\n",
    "        \n",
    "print(\"1월 주중 :\", day_num, \"1월 주말 :\", end_num)\n",
    "\n",
    "weekday = [w/day_num for w in weekday]\n",
    "weekend = [w/end_num for w in weekend]\n",
    "\n",
    "print(\"주중 인구: \", weekday)\n",
    "print(\"주말 인구: \", weekend)"
   ]
  },
  {
   "cell_type": "code",
   "execution_count": 28,
   "id": "68d203d4",
   "metadata": {},
   "outputs": [
    {
     "data": {
      "image/png": "[encoded data removed]",
      "text/plain": [
       "<Figure size 432x288 with 1 Axes>"
      ]
     },
     "metadata": {
      "needs_background": "light"
     },
     "output_type": "display_data"
    }
   ],
   "source": [
    "# 꺾은선 그래프 작성\n",
    "plt.rc('font', family = \"Malgun Gothic\")\n",
    "plt.title(\"%s 주중/말 시간대별 평균인구\" %dong)\n",
    "plt.plot(weekday, color = \"Orange\", label = \"주중\")\n",
    "plt.plot(weekend, color = \"Green\", label = \"주말\")\n",
    "plt.xticks(range(24), range(24))\n",
    "plt.legend(loc = \"best\")\n",
    "plt.show()"
   ]
  },
  {
   "cell_type": "code",
   "execution_count": 29,
   "id": "03e235a3",
   "metadata": {},
   "outputs": [
    {
     "data": {
      "image/png": "[encoded data removed]",
      "text/plain": [
       "<Figure size 432x288 with 1 Axes>"
      ]
     },
     "metadata": {
      "needs_background": "light"
     },
     "output_type": "display_data"
    }
   ],
   "source": [
    "# 막대그래프\n",
    "plt.rc('font', family = \"Malgun Gothic\")\n",
    "plt.title(\"%s 주중/말 시간대별 평균인구\" %dong)\n",
    "plt.bar(range(0, 72, 3), weekday, color = \"Orange\", label = \"주중\")\n",
    "plt.bar(range(1, 73, 3), weekend, color = \"Green\", label = \"주말\")\n",
    "plt.xticks(range(0, 72, 3), range(24))\n",
    "plt.legend(loc = \"best\")\n",
    "plt.show()"
   ]
  },
  {
   "cell_type": "markdown",
   "id": "51440d35",
   "metadata": {},
   "source": [
    "## 하위목표 3 - 남녀 시간대별 평균인구"
   ]
  },
  {
   "cell_type": "code",
   "execution_count": 31,
   "id": "f4a46021",
   "metadata": {},
   "outputs": [
    {
     "data": {
      "image/png": "[encoded data removed]",
      "text/plain": [
       "<Figure size 432x288 with 1 Axes>"
      ]
     },
     "metadata": {
      "needs_background": "light"
     },
     "output_type": "display_data"
    }
   ],
   "source": [
    "man = [0 for i in range(24)]\n",
    "woman = [0 for i in range(24)]\n",
    "\n",
    "for row in data:\n",
    "    if row[2] == dong_code:\n",
    "        man[row[1]] += sum(row[4:18])\n",
    "        woman[row[1]] += sum(row[18:32])\n",
    "        \n",
    "man = [m/31 for m in man]\n",
    "woman = [w/31 for w in woman]\n",
    "\n",
    "plt.rc('font', family = \"Malgun Gothic\")\n",
    "plt.title(\"%s 남여 시간대별 평균인구\" %dong)\n",
    "plt.plot(man, color = \"Yellow\", label = \"남\")\n",
    "plt.plot(woman, color = \"Green\", label = \"여\")\n",
    "plt.xticks(range(24), range(24))\n",
    "plt.legend(loc = \"best\")\n",
    "plt.show()"
   ]
  },
  {
   "cell_type": "markdown",
   "id": "f779f20b",
   "metadata": {},
   "source": [
    "#### 가로 막대그래프"
   ]
  },
  {
   "cell_type": "code",
   "execution_count": 38,
   "id": "0ef88613",
   "metadata": {},
   "outputs": [
    {
     "data": {
      "image/png": "[encoded data removed]",
      "text/plain": [
       "<Figure size 432x288 with 1 Axes>"
      ]
     },
     "metadata": {
      "needs_background": "light"
     },
     "output_type": "display_data"
    }
   ],
   "source": [
    "man = [-m for m in man]\n",
    "mp.rcParams['axes.unicode_minus'] = False\n",
    "\n",
    "plt.rc('font', family = \"Malgun Gothic\")\n",
    "plt.title(\"%s 남여 시간대별 평균인구\" %dong)\n",
    "\n",
    "# 색 목록 : https://ncv.kdca.go.kr/menu.es?mid=a30401000000\n",
    "plt.barh(range(24), man, color = \"rosybrown\", label = \"남자\")\n",
    "plt.barh(range(24), woman, color = \"Green\", label = \"여자\")\n",
    "plt.legend(loc = \"best\")\n",
    "plt.show()"
   ]
  },
  {
   "cell_type": "markdown",
   "id": "619502ff",
   "metadata": {},
   "source": [
    "## 하위 목표 4 - 다른 지역과 인구 비교"
   ]
  },
  {
   "cell_type": "code",
   "execution_count": 40,
   "id": "a16bbddf",
   "metadata": {},
   "outputs": [
    {
     "name": "stdout",
     "output_type": "stream",
     "text": [
      "행정동을 입력하세요! => 대치1동\n",
      "대치1동 ( 11680600 )을 분석합니다.\n",
      "비교할 행정동을 입력하세요! => 대치2동\n",
      "대치2동 ( 11680610 )을 분석합니다.\n"
     ]
    }
   ],
   "source": [
    "# 동 이름과 코드 연결            \n",
    "dong1 = input(\"행정동을 입력하세요! => \")\n",
    "\n",
    "for row in code:\n",
    "    if row[-1] == dong1:\n",
    "        dong_code1 = row[1]\n",
    "\n",
    "print(dong1, \"(\" , dong_code1 , \")\" + \"을 분석합니다.\")\n",
    "\n",
    "dong2 = input(\"비교할 행정동을 입력하세요! => \")\n",
    "\n",
    "for row in code:\n",
    "    if row[-1] == dong2:\n",
    "        dong_code2 = row[1]\n",
    "\n",
    "print(dong2, \"(\" , dong_code2 , \")\" + \"을 분석합니다.\")"
   ]
  },
  {
   "cell_type": "code",
   "execution_count": 41,
   "id": "f2f0c44d",
   "metadata": {},
   "outputs": [
    {
     "data": {
      "image/png": "[encoded data removed]",
      "text/plain": [
       "<Figure size 432x288 with 1 Axes>"
      ]
     },
     "metadata": {
      "needs_background": "light"
     },
     "output_type": "display_data"
    }
   ],
   "source": [
    "pop1 = [0 for i in range(24)]\n",
    "pop2 = [0 for i in range(24)]\n",
    "\n",
    "for row in data:\n",
    "    if row[2] == dong_code1:\n",
    "        pop1[row[1]] += row[3]\n",
    "    elif row[2] == dong_code2:\n",
    "        pop2[row[1]] += row[3]\n",
    "        \n",
    "pop1 = [p/31 for p in pop1]\n",
    "pop2 = [p/31 for p in pop2]\n",
    "\n",
    "plt.rc('font', family = \"Malgun Gothic\")\n",
    "plt.title(\"%s과 %s의 시간대별 평균인구\" %(dong1, dong2))\n",
    "plt.plot(pop1, color = \"darkseagreen\", label = \"%s\" %dong1)\n",
    "plt.plot(pop2, color = \"sandybrown\", label = \"%s\" %dong2)\n",
    "plt.xticks(range(24), range(24))\n",
    "plt.legend(loc = \"best\")\n",
    "plt.show()"
   ]
  },
  {
   "cell_type": "code",
   "execution_count": null,
   "id": "3acd841d",
   "metadata": {},
   "outputs": [],
   "source": []
  }
 ],
 "metadata": {
  "kernelspec": {
   "display_name": "Python 3 (ipykernel)",
   "language": "python",
   "name": "python3"
  },
  "language_info": {
   "codemirror_mode": {
    "name": "ipython",
    "version": 3
   },
   "file_extension": ".py",
   "mimetype": "text/x-python",
   "name": "python",
   "nbconvert_exporter": "python",
   "pygments_lexer": "ipython3",
   "version": "3.9.12"
  }
 },
 "nbformat": 4,
 "nbformat_minor": 5
}
